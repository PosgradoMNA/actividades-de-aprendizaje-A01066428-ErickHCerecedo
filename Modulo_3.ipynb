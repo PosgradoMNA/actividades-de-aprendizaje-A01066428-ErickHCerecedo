{
 "cells": [
  {
   "cell_type": "markdown",
   "metadata": {},
   "source": [
    "# Actividades del Modulo 3 | Python Programming Fundamentals\n",
    "Erick de Jesus Hernandez Cerecedo\n",
    "A01066428"
   ]
  },
  {
   "cell_type": "markdown",
   "metadata": {},
   "source": [
    "### Actividad | Conditions and Branching\n",
    "Trabajando con condiciones"
   ]
  },
  {
   "cell_type": "code",
   "execution_count": 5,
   "metadata": {},
   "outputs": [
    {
     "name": "stdout",
     "output_type": "stream",
     "text": [
      "True\n",
      "False\n",
      "False\n",
      "True\n",
      "Do not enter\n",
      "False\n",
      "True\n",
      "True\n"
     ]
    }
   ],
   "source": [
    "# Condiciones y Ramificación\n",
    "\n",
    "# Conditions\n",
    "i = 3\n",
    "print(i >= 2)\n",
    "print(i == 6)\n",
    "\n",
    "# Condicioes en strings\n",
    "print('AC/DC' == 'Michael Jackson')\n",
    "print('AC/DC' != 'Michael Jackson')\n",
    "\n",
    "# if declaracion\n",
    "age = 16\n",
    "if age > 18:\n",
    "  print('Enter')\n",
    "elif age == 18:\n",
    "  print ('Nice')  \n",
    "else:\n",
    "  print('Do not enter')\n",
    "\n",
    "# Operaciones logicas\n",
    "a = 2\n",
    "b = 3\n",
    "print (a == 3)\n",
    "print (a == 3 or a == 2)\n",
    "print (a == 2 and b == 3)\n"
   ]
  },
  {
   "cell_type": "markdown",
   "metadata": {},
   "source": [
    "### Actividad | Lab - Conditions and Branching"
   ]
  },
  {
   "cell_type": "code",
   "execution_count": 6,
   "metadata": {},
   "outputs": [
    {
     "name": "stdout",
     "output_type": "stream",
     "text": [
      "This album is Amazing!\n",
      "this album is amazing\n",
      "This album came out in year 1979\n"
     ]
    }
   ],
   "source": [
    "# Quiz\n",
    "\n",
    "# Escriba una declaración if para determinar si un álbum tenía una calificación superior a 8.\n",
    "# Pruébelo usando la calificación del álbum \"Back in Black\" que tuvo una calificación de 8.5.\n",
    "# Si la declaración es verdadera, escriba \"¡Este álbum es increíble!\"\n",
    "rating = 8.5\n",
    "if rating > 8:\n",
    "    print (\"This album is Amazing!\")\n",
    "\n",
    "# Si la calificación es mayor que ocho, escriba \"este álbum es increíble\". Si la calificación es menor o igual a 8, imprima \"este álbum está bien\".\n",
    "rating = 8.5\n",
    "if rating > 8:\n",
    "    print (\"this album is amazing\")\n",
    "else:\n",
    "    print (\"this album is ok\")\n",
    "\n",
    "# Escribe una declaración if para determinar si un álbum salió antes de 1980 o en los años: 1991 o 1993. Si la condición es verdadera, imprime el año en que salió el álbum.\n",
    "album_year = 1979\n",
    "\n",
    "if album_year < 1980 or album_year == 1991 or album_year == 1993:\n",
    "    print(\"This album came out in year\", album_year)"
   ]
  },
  {
   "cell_type": "markdown",
   "metadata": {},
   "source": [
    "### Actividad | Loops\n",
    "Trabajando con condiciones"
   ]
  },
  {
   "cell_type": "code",
   "execution_count": 10,
   "metadata": {},
   "outputs": [
    {
     "name": "stdout",
     "output_type": "stream",
     "text": [
      "3\n",
      "4\n",
      "5\n",
      "1\n",
      "2\n",
      "3\n",
      "4\n",
      "5\n",
      "6\n",
      "7\n",
      "8\n",
      "9\n",
      "10\n",
      "Nice\n",
      "Nice\n",
      "Nice\n",
      "red\n",
      "yellow\n",
      "green\n"
     ]
    },
    {
     "data": {
      "text/plain": [
       "['red', 'red']"
      ]
     },
     "execution_count": 10,
     "metadata": {},
     "output_type": "execute_result"
    }
   ],
   "source": [
    "# Ciclo For\n",
    "A=[3,4,5]\n",
    "for i in A:  \n",
    "    print(i) \n",
    "\n",
    "# Ciclo While\n",
    "x=11\n",
    "y=1\n",
    "while(y != x):\n",
    "    print(y)\n",
    "    y=y+1\n",
    "\n",
    "# Ciclo for\n",
    "i = 0\n",
    "for i in range(3):\n",
    "  i += 1\n",
    "  print ('Nice')\n",
    "\n",
    "# Iterando una lista con ciclos \n",
    "squares = ['red','yellow','green']\n",
    "for square in squares:\n",
    "  print(square)\n",
    "\n",
    "# Ciclo While\n",
    "squares = ['red','red','yellow','red','green']\n",
    "newsquares = []\n",
    "i = 0\n",
    "while(squares[i] == 'red'):\n",
    "  newsquares.append(squares[i])\n",
    "  i += 1\n",
    "newsquares\n"
   ]
  },
  {
   "cell_type": "markdown",
   "metadata": {},
   "source": [
    "### Actividad | Lab - Loops"
   ]
  },
  {
   "cell_type": "code",
   "execution_count": 11,
   "metadata": {},
   "outputs": [
    {
     "name": "stdout",
     "output_type": "stream",
     "text": [
      "1982\n",
      "1980\n",
      "1973\n",
      "0\n",
      "1\n",
      "2\n",
      "3\n",
      "4\n",
      "5\n",
      "6\n",
      "7\n",
      "1982\n",
      "1980\n",
      "1973\n",
      "Before square  0 is red\n",
      "After square  0 is white\n",
      "Before square  1 is yellow\n",
      "After square  1 is white\n",
      "Before square  2 is green\n",
      "After square  2 is white\n",
      "Before square  3 is purple\n",
      "After square  3 is white\n",
      "Before square  4 is blue\n",
      "After square  4 is white\n",
      "0 red\n",
      "1 yellow\n",
      "2 green\n",
      "3 purple\n",
      "4 blue\n",
      "1982\n",
      "1980\n",
      "It took  2 repetitions to get out of loop.\n"
     ]
    }
   ],
   "source": [
    "# Uso del rango\n",
    "range(3)\n",
    "\n",
    "# Ejemplo del ciclo For\n",
    "dates = [1982,1980,1973]\n",
    "N = len(dates)\n",
    "\n",
    "for i in range(N):\n",
    "    print(dates[i])   \n",
    "\n",
    "# Ejemplo del ciclo For\n",
    "for i in range(0, 8):\n",
    "    print(i)\n",
    "\n",
    "# Ejemplo del ciclo For, recorriendo una lista\n",
    "for year in dates:  \n",
    "    print(year) \n",
    "\n",
    "# Uso del ciclo For para cambiar elementos de la lista\n",
    "squares = ['red', 'yellow', 'green', 'purple', 'blue']\n",
    "\n",
    "for i in range(0, 5):\n",
    "    print(\"Before square \", i, 'is',  squares[i])\n",
    "    squares[i] = 'white'\n",
    "    print(\"After square \", i, 'is',  squares[i])\n",
    "\n",
    "# Recorriendo la lista e iterando tanto en el índice como en el valor del elemento\n",
    "squares=['red', 'yellow', 'green', 'purple', 'blue']\n",
    "\n",
    "for i, square in enumerate(squares):\n",
    "    print(i, square)\n",
    "\n",
    "# Ciclo While\n",
    "# Ejemplo del ciclo While\n",
    "dates = [1982, 1980, 1973, 2000]\n",
    "i = 0\n",
    "year = dates[0]\n",
    "\n",
    "while(year != 1973):    \n",
    "    print(year)\n",
    "    i = i + 1\n",
    "    year = dates[i]\n",
    "    \n",
    "\n",
    "print(\"It took \", i ,\"repetitions to get out of loop.\")"
   ]
  },
  {
   "cell_type": "code",
   "execution_count": 15,
   "metadata": {},
   "outputs": [
    {
     "name": "stdout",
     "output_type": "stream",
     "text": [
      "-4\n",
      "-3\n",
      "-2\n",
      "-1\n",
      "0\n",
      "1\n",
      "2\n",
      "3\n",
      "4\n",
      "rock\n",
      "R&B\n",
      "Soundtrack\n",
      "R&B\n",
      "soul\n",
      "pop\n",
      "red\n",
      "yellow\n",
      "green\n",
      "purple\n",
      "blue\n",
      "10\n",
      "9.5\n",
      "8\n"
     ]
    }
   ],
   "source": [
    "# Quiz\n",
    "\n",
    "# Escriba un ciclo for que imprima todos los elementos entre -5 y 5 usando la función de rango.\n",
    "for i in range(-4,5):\n",
    "    print(i)  \n",
    "\n",
    "# Imprime los elementos de la siguiente lista: Genres=[ 'rock', 'R&B', 'Soundtrack', 'R&B', 'soul', 'pop'] Asegúrate de seguir las convenciones de Python.\n",
    "Genres = ['rock', 'R&B', 'Soundtrack', 'R&B', 'soul', 'pop']\n",
    "for Genre in Genres:\n",
    "    print(Genre)\n",
    "\n",
    "# Escribe un ciclo for que imprima lo siguiente: cuadrados=['rojo', 'amarillo', 'verde', 'púrpura', 'azul']\n",
    "squares=['red', 'yellow', 'green', 'purple', 'blue']\n",
    "for square in squares:\n",
    "    print(square)\n",
    "\n",
    "# Escriba un bucle while para mostrar los valores de la calificación de una lista de reproducción de álbumes almacenados en la lista PlayListRatings. \n",
    "# Si la puntuación es inferior a 6, salga del ciclo. La lista PlayListRatings viene dada por: PlayListRatings = [10, 9.5, 10, 8, 7.5, 5, 10, 10]\n",
    "PlayListRatings = [10, 9.5, 10, 8, 7.5, 5, 10, 10]\n",
    "i = 0\n",
    "Rating = PlayListRatings[0]\n",
    "while(i < len(PlayListRatings) and Rating >= 6):\n",
    "    print(Rating)\n",
    "    i = i + 1\n",
    "    Rating = PlayListRatings[i]\n",
    "    i = i + 1 \n",
    "\n",
    "# Escriba un ciclo while para copiar las cadenas 'naranja' de los cuadrados de la lista a la lista nuevos_cuadrados. Deténgase y salga del bucle si el valor de la lista no es 'naranja'\n",
    "squares = ['orange', 'orange', 'purple', 'blue ', 'orange']\n",
    "new_squares = []\n",
    "i = 0\n",
    "while(i < len(squares) and squares[i] == 'orange'):\n",
    "    new_squares.append(squares[i])\n",
    "    i = i + 1\n",
    "print (new_squares)\n"
   ]
  },
  {
   "cell_type": "markdown",
   "metadata": {},
   "source": [
    "### Actividad | Functions\n",
    "Trabajando con funciones"
   ]
  },
  {
   "cell_type": "code",
   "execution_count": 26,
   "metadata": {},
   "outputs": [
    {
     "name": "stdout",
     "output_type": "stream",
     "text": [
      "21\n",
      "6\n",
      "Album 0 Rating in 10.0\n",
      "Album 1 Rating in 8.5\n",
      "Album 2 Rating in 9.5\n",
      "5\n",
      "None\n",
      "10\n"
     ]
    }
   ],
   "source": [
    "# Creando Funciones\n",
    "def add1(a):\n",
    "  '''\n",
    "  the first lines are used to comment/explain the function\n",
    "  '''\n",
    "  b = a + 1\n",
    "  return b\n",
    "\n",
    "print(add1(20))\n",
    "c = add1(5)\n",
    "print(c)\n",
    "\n",
    "def print_stuff(Stuff):\n",
    "  for i, s in enumerate(Stuff):\n",
    "    print('Album', i,'Rating in', s)\n",
    "\n",
    "album_rating = [10.0, 8.5, 9.5]\n",
    "print_stuff(album_rating)\n",
    "\n",
    "# Variables locales y globales\n",
    "def abc():\n",
    "  y = 5\n",
    "  print(y)\n",
    "print(abc())\n",
    "y = 10\n",
    "print(y)"
   ]
  },
  {
   "cell_type": "markdown",
   "metadata": {},
   "source": [
    "### Actividad | Lab - Functions"
   ]
  },
  {
   "cell_type": "code",
   "execution_count": null,
   "metadata": {},
   "outputs": [],
   "source": [
    "# Lab - Funciones\n",
    "\n",
    "# Primer ejemplo de función: suma 1 a a y almacena como b\n",
    "def add(a):\n",
    "    \"\"\"\n",
    "    add 1 to a\n",
    "    \"\"\"\n",
    "    b = a + 1\n",
    "    print(a, \"if you add one\", b)\n",
    "    return(b)\n",
    "\n",
    "# Obtener ayuda sobre la función de agregar\n",
    "help(add)\n",
    "\n",
    "# Llamar a la función add()\n",
    "add(1)\n",
    "\n",
    "# Llamar a la función add()\n",
    "add(2)\n",
    "\n",
    "# Definir una función para múltiplos de dos números\n",
    "def Mult(a, b):\n",
    "    c = a * b\n",
    "    return(c)\n",
    "    print('This is not printed')\n",
    "    \n",
    "result = Mult(12,2)\n",
    "print(result)\n",
    "\n",
    "# Usa mult() para multiplicar dos enteros\n",
    "Mult(2, 3)\n",
    "\n",
    "# Usa mult() para multiplicar dos floats\n",
    "Mult(10.0, 3.14)\n",
    "\n",
    "# Usa mult() para multiplicar dos two diferentes tipos de valores juntos\n",
    "Mult(2, \"Michael Jackson \")\n",
    "\n",
    "# Variables\n",
    "\n",
    "# Definición de función\n",
    "def square(a):\n",
    "    # Variable local b\n",
    "    b = 1\n",
    "    c = a * a + b\n",
    "    print(a, \"if you square + 1\", c) \n",
    "    return(c)\n",
    "\n",
    "# Inicializa la variable global\n",
    "x = 3\n",
    "# Has que la función llame y devuelva la función a y\n",
    "y = square(x)\n",
    "print(y)\n",
    "\n",
    "# Introduzca directamente un número como parámetro\n",
    "square(2)\n",
    "\n",
    "# Definir funciones, una con valor de retorno Ninguno y otra sin valor de retorno\n",
    "def MJ():\n",
    "    print('Michael Jackson')\n",
    "    \n",
    "def MJ1():\n",
    "    print('Michael Jackson')\n",
    "    return(None)\n",
    "\n",
    "# Ver la salida\n",
    "MJ()\n",
    "\n",
    "# Ver la salida\n",
    "MJ1()\n",
    "\n",
    "# Ver qué funciones devuelve son\n",
    "print(MJ())\n",
    "print(MJ1())\n",
    "\n",
    "# Definir la función para combinar cadenas\n",
    "def con(a, b):\n",
    "    return(a + b)\n",
    "\n",
    "# Prueba en la función con()\n",
    "con(\"This \", \"is\")\n",
    "\n",
    "# Considere las dos líneas de código en el Bloque 1 y el Bloque 2: el procedimiento para cada bloque es idéntico. Lo único que es diferente son los nombres y valores de las variables.\n",
    "# bloque de cálculo a y b 1\n",
    "a1 = 4\n",
    "b1 = 5\n",
    "c1 = a1 + b1 + 2 * a1 * b1 - 1\n",
    "if(c1 < 0):\n",
    "    c1 = 0 \n",
    "else:\n",
    "    c1 = 5\n",
    "print(c1)   \n",
    "\n",
    "# bloque de cálculo a y b2\n",
    "a2 = 0\n",
    "b2 = 0\n",
    "c2 = a2 + b2 + 2 * a2 * b2 - 1\n",
    "if(c2 < 0):\n",
    "    c2 = 0 \n",
    "else:\n",
    "    c2 = 5\n",
    "print(c2) \n",
    "\n",
    "\n",
    "# Haz una función para el cálculo anterior\n",
    "def Equation(a,b):\n",
    "    c = a + b + 2 * a * b - 1\n",
    "    if(c < 0):\n",
    "        c = 0 \n",
    "    else:\n",
    "        c = 5\n",
    "    return(c) \n",
    "\n",
    "a1 = 4\n",
    "b1 = 5\n",
    "c1 = Equation(a1, b1)\n",
    "print(c1)\n",
    "\n",
    "a2 = 0\n",
    "b2 = 0\n",
    "c2 = Equation(a2, b2)\n",
    "print(c2)"
   ]
  },
  {
   "cell_type": "code",
   "execution_count": 28,
   "metadata": {},
   "outputs": [
    {
     "data": {
      "text/plain": [
       "['a', 1, 'b', 1]"
      ]
     },
     "execution_count": 28,
     "metadata": {},
     "output_type": "execute_result"
    }
   ],
   "source": [
    "# Quiz\n",
    "\n",
    "# Crea una función que divida la primera entrada por la segunda entrada\n",
    "def div(a, b):\n",
    "    return(a/b)\n",
    "\n",
    "# Utilice la función <code>con</code> para la siguiente pregunta.\n",
    "def con(a, b):\n",
    "    return(a + b)\n",
    "\n",
    "# ¿Se puede usar la función con que definimos antes para sumar dos enteros o cadenas?\n",
    "con(2, 2)\n",
    "\n",
    "# ¿Se puede usar la función con que definimos antes para concatenar listas o tuplas?\n",
    "con(['a', 1], ['b', 1])\n"
   ]
  },
  {
   "cell_type": "markdown",
   "metadata": {},
   "source": [
    "### Actividad | Objects and Classes\n",
    "Trabajando con objetos y clases"
   ]
  },
  {
   "cell_type": "code",
   "execution_count": 32,
   "metadata": {},
   "outputs": [
    {
     "data": {
      "image/png": "[encoded data removed]",
      "text/plain": [
       "<Figure size 640x480 with 1 Axes>"
      ]
     },
     "metadata": {},
     "output_type": "display_data"
    }
   ],
   "source": [
    "# Importacion de librerias\n",
    "import numpy as np\n",
    "import matplotlib.pyplot as plt\n",
    "%matplotlib inline\n",
    "\n",
    "# Declaracion de clase\n",
    "class Circle(object):\n",
    "    \n",
    "    # Constructor\n",
    "    def __init__(self, radius=3, color='blue'):\n",
    "        self.radius = radius\n",
    "        self.color = color \n",
    "    \n",
    "    # Metodo\n",
    "    def add_radius(self, r):\n",
    "        self.radius = self.radius + r\n",
    "        return(self.radius)\n",
    "    \n",
    "    # Metodo\n",
    "    def drawCircle(self):\n",
    "        plt.gca().add_patch(plt.Circle((0, 0), radius=self.radius, fc=self.color))\n",
    "        plt.axis('scaled')\n",
    "        plt.show()  \n",
    "\n",
    "# Creacion de una instancia u objeto\n",
    "red_circle = Circle(10,'red') \n",
    "dir(red_circle)\n",
    "red_circle.color\n",
    "red_circle.drawCircle()"
   ]
  },
  {
   "cell_type": "code",
   "execution_count": 37,
   "metadata": {},
   "outputs": [
    {
     "data": {
      "image/png": "[encoded data removed]",
      "text/plain": [
       "<Figure size 640x480 with 1 Axes>"
      ]
     },
     "metadata": {},
     "output_type": "display_data"
    },
    {
     "data": {
      "image/png": "[encoded data removed]",
      "text/plain": [
       "<Figure size 640x480 with 1 Axes>"
      ]
     },
     "metadata": {},
     "output_type": "display_data"
    }
   ],
   "source": [
    "# Clase rectangulo\n",
    "class Rectangle(object):\n",
    "  def __init__(self, height=2, width=3, color='r'):\n",
    "    self.height = height\n",
    "    self.width = width\n",
    "    self.color = color\n",
    "\n",
    "  # Metodo\n",
    "  def drawRectangle(self):\n",
    "    plt.gca().add_patch(plt.Rectangle((0, 0), self.width, self.height ,fc=self.color))\n",
    "    plt.axis('scaled')\n",
    "    plt.show()\n",
    "\n",
    "blue_rectangle = Rectangle(2, 1, 'pink')\n",
    "blue_rectangle.drawRectangle()\n",
    "yellow_rectangle = Rectangle(1, 2, 'orange')\n",
    "yellow_rectangle.drawRectangle()"
   ]
  }
 ],
 "metadata": {
  "kernelspec": {
   "display_name": "Python 3.10.5 64-bit",
   "language": "python",
   "name": "python3"
  },
  "language_info": {
   "codemirror_mode": {
    "name": "ipython",
    "version": 3
   },
   "file_extension": ".py",
   "mimetype": "text/x-python",
   "name": "python",
   "nbconvert_exporter": "python",
   "pygments_lexer": "ipython3",
   "version": "3.10.5"
  },
  "orig_nbformat": 4,
  "vscode": {
   "interpreter": {
    "hash": "aee8b7b246df8f9039afb4144a1f6fd8d2ca17a180786b69acc140d282b71a49"
   }
  }
 },
 "nbformat": 4,
 "nbformat_minor": 2
}
