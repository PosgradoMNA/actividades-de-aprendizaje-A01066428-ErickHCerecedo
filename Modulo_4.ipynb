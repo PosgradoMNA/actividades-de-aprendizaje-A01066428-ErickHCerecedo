{
 "cells": [
  {
   "cell_type": "markdown",
   "metadata": {},
   "source": [
    "# Actividades del Modulo 4 | Python Programming Fundamentals\n",
    "Erick de Jesus Hernandez Cerecedo\n",
    "A01066428"
   ]
  },
  {
   "cell_type": "markdown",
   "metadata": {},
   "source": [
    "### Actividad | Reading Files with Open\n",
    "Leyendo archivos con Open"
   ]
  },
  {
   "cell_type": "code",
   "execution_count": 1,
   "metadata": {},
   "outputs": [
    {
     "name": "stdout",
     "output_type": "stream",
     "text": [
      "This is line 1\n",
      "\n",
      "This is line 2\n",
      "\n",
      "['This is line 3\\n']\n"
     ]
    }
   ],
   "source": [
    "# Lees un archivo\n",
    "with open('data/sample_read.txt', 'r') as File1:\n",
    "    r = File1.readline()\n",
    "    print(r)\n",
    "    r = File1.readline()\n",
    "    print(r)\n",
    "\n",
    "    # Read line comienza a contar desde la ultima linea llamada\n",
    "    r = File1.readlines(10)\n",
    "    print(r)\n"
   ]
  },
  {
   "cell_type": "markdown",
   "metadata": {},
   "source": [
    "### Actividad | Lab - Reading Files with Open "
   ]
  },
  {
   "cell_type": "code",
   "execution_count": 2,
   "metadata": {},
   "outputs": [
    {
     "name": "stdout",
     "output_type": "stream",
     "text": [
      "data/sample_read.txt\n",
      "r\n",
      "This is line 1\n",
      "This is line 2\n",
      "This is line 3\n",
      "This is line 4\n",
      "This is line 5\n",
      "This is line 6\n",
      "This is line 7\n",
      "This is line 8\n",
      "This is line 9\n",
      "This is line 10\n",
      "This is line 11\n",
      "This is line 12\n",
      "This is line 13\n",
      "This is line 14\n",
      "This is line 15\n",
      "<class 'str'>\n"
     ]
    }
   ],
   "source": [
    "# Read the Example1.txt\n",
    "example1 = 'data/sample_read.txt'\n",
    "file1 = open(example1, \"r\")\n",
    "\n",
    "# Imprimir el path del archivo\n",
    "print(file1.name)\n",
    "\n",
    "# Imprimir el modo del archivo, puede ser 'r' (lectura) or 'w' (Escritura)\n",
    "print(file1.mode)\n",
    "\n",
    "# Leer el archivo\n",
    "FileContent = file1.read()\n",
    "\n",
    "# Imprimir el archivo con '\\n' salto de linea\n",
    "print(FileContent)\n",
    "\n",
    "# Tipo del conteido del archivo\n",
    "print(type(FileContent))\n",
    "\n",
    "# Cerrar el archivo al terminar\n",
    "file1.close()"
   ]
  },
  {
   "cell_type": "code",
   "execution_count": 3,
   "metadata": {},
   "outputs": [
    {
     "name": "stdout",
     "output_type": "stream",
     "text": [
      "This is line 1\n",
      "This is line 2\n",
      "This is line 3\n",
      "This is line 4\n",
      "This is line 5\n",
      "This is line 6\n",
      "This is line 7\n",
      "This is line 8\n",
      "This is line 9\n",
      "This is line 10\n",
      "This is line 11\n",
      "This is line 12\n",
      "This is line 13\n",
      "This is line 14\n",
      "This is line 15\n",
      "True\n",
      "This\n",
      " is \n",
      "line 1\n",
      "\n",
      "This is line 2\n",
      "\n"
     ]
    }
   ],
   "source": [
    "# Leer archivo usando open\n",
    "with open(example1, \"r\") as file1:\n",
    "    FileContent = file1.read()\n",
    "    print(FileContent)\n",
    "\n",
    "# Verificar que el archivo esta cerrado\n",
    "print(file1.closed)\n",
    "\n",
    "# Read certain amount of characters\n",
    "with open(example1, \"r\") as file1:\n",
    "    print(file1.read(4))\n",
    "    print(file1.read(4))\n",
    "    print(file1.read(7))\n",
    "    print(file1.read(15))"
   ]
  },
  {
   "cell_type": "code",
   "execution_count": 4,
   "metadata": {},
   "outputs": [],
   "source": [
    "# Escribir archivos\n",
    "with open('data/sample_write.txt', 'w') as myFile:\n",
    "    for i in range(1, 21):\n",
    "        myFile.write('This is line %d\\n' % (i))"
   ]
  }
 ],
 "metadata": {
  "kernelspec": {
   "display_name": "Python 3.10.5 64-bit",
   "language": "python",
   "name": "python3"
  },
  "language_info": {
   "codemirror_mode": {
    "name": "ipython",
    "version": 3
   },
   "file_extension": ".py",
   "mimetype": "text/x-python",
   "name": "python",
   "nbconvert_exporter": "python",
   "pygments_lexer": "ipython3",
   "version": "3.10.5"
  },
  "orig_nbformat": 4,
  "vscode": {
   "interpreter": {
    "hash": "aee8b7b246df8f9039afb4144a1f6fd8d2ca17a180786b69acc140d282b71a49"
   }
  }
 },
 "nbformat": 4,
 "nbformat_minor": 2
}
