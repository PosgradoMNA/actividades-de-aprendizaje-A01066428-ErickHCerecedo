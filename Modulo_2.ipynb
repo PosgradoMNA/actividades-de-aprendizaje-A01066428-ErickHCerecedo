{
 "cells": [
  {
   "cell_type": "markdown",
   "metadata": {},
   "source": [
    "# Actividades del Modulo 2 | Python Data Structures\n",
    "Erick de Jesus Hernandez Cerecedo\n",
    "A01066428"
   ]
  },
  {
   "cell_type": "markdown",
   "metadata": {},
   "source": [
    "### Actividad | Lists and Tuples\n",
    "Trabajando con Listas y Tuplas"
   ]
  },
  {
   "cell_type": "code",
   "execution_count": 16,
   "metadata": {},
   "outputs": [
    {
     "name": "stdout",
     "output_type": "stream",
     "text": [
      "(5, 15, 1.5)\n",
      "[1.5, 5, 15]\n",
      "[3, 10, 1.5]\n",
      "[3, 10, 1.5, 'hi', 2]\n",
      "[3, 10, 1.5, 20, 2]\n",
      "hello world\n"
     ]
    }
   ],
   "source": [
    "# Tuplas\n",
    "# Expresadas con parentesis y pueden tener multiples tipos de datos\n",
    "# Tuplas son inmutables\n",
    "tuple = (5, 15, 1.5)  \n",
    "\n",
    "# Longitud de una tupla\n",
    "len(tuple)\n",
    "\n",
    "# Igualando una tupla\n",
    "tuple1 = tuple\n",
    "\n",
    "# Impresion de tupla\n",
    "print (tuple)\n",
    "print(sorted(tuple1))\n",
    "\n",
    "# Anidando tuplas dentro de tuplas\n",
    "nt = (1, 2, ('pop', 'rock'), (3, 4), ('a', (1, 2,)))\n",
    "nt[4][1]\n",
    "\n",
    "\n",
    "# Listas\n",
    "list = [3, 10, 1.5]\n",
    "print(list)\n",
    "list.extend(['hi', 2])\n",
    "print(list)\n",
    "list[3] = 20\n",
    "print(list)\n",
    "\n",
    "a = 'hello world'\n",
    "a.split(' ')\n",
    "print (a)"
   ]
  },
  {
   "cell_type": "markdown",
   "metadata": {},
   "source": [
    "### Actividad | Lab - Tuples "
   ]
  },
  {
   "cell_type": "code",
   "execution_count": 18,
   "metadata": {},
   "outputs": [
    {
     "name": "stdout",
     "output_type": "stream",
     "text": [
      "disco\n",
      "10\n",
      "1.2\n",
      "<class 'str'>\n",
      "<class 'int'>\n",
      "<class 'float'>\n",
      "1.2\n",
      "('disco', 10, 1.2, 'hard rock', 10)\n",
      "('disco', 10, 1.2)\n",
      "('hard rock', 10)\n",
      "[0, 2, 5, 6, 6, 8, 9, 9, 10]\n",
      "(1, 2, ('pop', 'rock'), (3, 4), ('disco', (1, 2)))\n",
      "Element 2, 0 of Tuple:  pop\n",
      "Element 2, 1 of Tuple:  rock\n",
      "Element 3, 0 of Tuple:  3\n",
      "Element 3, 1 of Tuple:  4\n",
      "Element 4, 0 of Tuple:  disco\n",
      "Element 4, 1 of Tuple:  (1, 2)\n"
     ]
    }
   ],
   "source": [
    "# Lab - Tuples (Tuplas)\n",
    "\n",
    "tuple1 = (\"disco\",10,1.2 )\n",
    "tuple1\n",
    "\n",
    "# Impresion de cada indice\n",
    "print(tuple1[0])\n",
    "print(tuple1[1])\n",
    "print(tuple1[2])\n",
    "\n",
    "# Impresion de tipos de cada indice\n",
    "print(type(tuple1[0]))\n",
    "print(type(tuple1[1]))\n",
    "print(type(tuple1[2]))\n",
    "\n",
    "# Indice negativo\n",
    "print(tuple1[-1])\n",
    "\n",
    "# Concatenacion de dos tuplas\n",
    "tuple2 = tuple1 + (\"hard rock\", 10)\n",
    "print(tuple2)\n",
    "\n",
    "# Division de tuplas\n",
    "print(tuple2[0:3])\n",
    "print(tuple2[3:5])\n",
    "\n",
    "# Una Tupla\n",
    "Ratings = (0, 9, 6, 5, 10, 8, 9, 6, 2)\n",
    "\n",
    "# Ordenando una tupla\n",
    "RatingsSorted = sorted(Ratings)\n",
    "print(RatingsSorted)\n",
    "\n",
    "# Tupla anidada\n",
    "NestedT =(1, 2, (\"pop\", \"rock\") ,(3,4),(\"disco\",(1,2)))\n",
    "print(NestedT)\n",
    "\n",
    "# Impresion de elementos en cada indice y nivel \n",
    "print(\"Element 2, 0 of Tuple: \",   NestedT[2][0])\n",
    "print(\"Element 2, 1 of Tuple: \",   NestedT[2][1])\n",
    "print(\"Element 3, 0 of Tuple: \",   NestedT[3][0])\n",
    "print(\"Element 3, 1 of Tuple: \",   NestedT[3][1])\n",
    "print(\"Element 4, 0 of Tuple: \",   NestedT[4][0])\n",
    "print(\"Element 4, 1 of Tuple: \",   NestedT[4][1])\n",
    "\n"
   ]
  },
  {
   "cell_type": "code",
   "execution_count": 20,
   "metadata": {},
   "outputs": [
    {
     "name": "stdout",
     "output_type": "stream",
     "text": [
      "('pop', 'rock', 'soul', 'hard rock', 'soft rock', 'R&B', 'progressive rock', 'disco')\n",
      "8\n",
      "hard rock\n",
      "('hard rock', 'soft rock', 'R&B')\n",
      "('pop', 'rock')\n",
      "7\n",
      "(-5, 1, -3)\n",
      "[-5, -3, 1]\n"
     ]
    }
   ],
   "source": [
    "# QUIZ\n",
    "# sample tuple\n",
    "genres_tuple = (\"pop\", \"rock\", \"soul\", \"hard rock\", \"soft rock\", \\\n",
    "                \"R&B\", \"progressive rock\", \"disco\") \n",
    "print(genres_tuple)\n",
    "\n",
    "# Longitud de la tupla \n",
    "print(len(genres_tuple))\n",
    "# Accediendo al elemento 3\n",
    "print(genres_tuple[3])\n",
    "# Dividiendo elemento del 3 al 6\n",
    "print(genres_tuple[3:6])\n",
    "# Imprimeindo los primeros 2\n",
    "print(genres_tuple[:2])\n",
    "# Indice de \"disco\"\n",
    "print(genres_tuple.index('disco'))\n",
    "# Generar una lista ordenada\n",
    "C_tuple=(-5, 1, -3)\n",
    "print(C_tuple)\n",
    "s_tuple = sorted(C_tuple)\n",
    "print(s_tuple)"
   ]
  },
  {
   "cell_type": "markdown",
   "metadata": {},
   "source": [
    "### Actividad | Lab - Lists "
   ]
  },
  {
   "cell_type": "code",
   "execution_count": 25,
   "metadata": {},
   "outputs": [
    {
     "name": "stdout",
     "output_type": "stream",
     "text": [
      "['Michael Jackson', 10.1, 1982]\n",
      "the same element using negative and positive indexing:\n",
      " Postive: Michael Jackson \n",
      " Negative: Michael Jackson\n",
      "the same element using negative and positive indexing:\n",
      " Postive: Michael Jackson \n",
      " Negative: Michael Jackson\n",
      "the same element using negative and positive indexing:\n",
      " Postive: 10.1 \n",
      " Negative: 10.1\n",
      "the same element using negative and positive indexing:\n",
      " Postive: 1982 \n",
      " Negative: 1982\n",
      "['MJ', 1]\n",
      "['Michael Jackson', 10.2, ['pop', 10]]\n",
      "['Michael Jackson', 10.2, 'pop', 10]\n",
      "Before change: ['disco', 10, 1.2]\n",
      "After change: ['hard rock', 10, 1.2]\n",
      "Before change: ['hard rock', 10, 1.2]\n",
      "After change: [10, 1.2]\n",
      "['hard', 'rock']\n",
      "['A', 'B', 'C', 'D']\n",
      "A: ['hard rock', 10, 1.2]\n",
      "B: ['hard rock', 10, 1.2]\n",
      "B[0]: hard rock\n",
      "B[0]: banana\n",
      "['banana', 10, 1.2]\n",
      "B[0]: banana\n",
      "B[0]: banana\n"
     ]
    }
   ],
   "source": [
    "# Lab - List (Listas)\n",
    "\n",
    "# Creacion de una lista\n",
    "L = [\"Michael Jackson\", 10.1, 1982]\n",
    "print(L)\n",
    "\n",
    "# Imprimiendo elemntos de cada indice\n",
    "print('the same element using negative and positive indexing:\\n Postive:',L[0],'\\n Negative:' , L[-3]  )\n",
    "print('the same element using negative and positive indexing:\\n Postive:',L[0],'\\n Negative:' , L[-3]  )\n",
    "print('the same element using negative and positive indexing:\\n Postive:',L[1],'\\n Negative:' , L[-2]  )\n",
    "print('the same element using negative and positive indexing:\\n Postive:',L[2],'\\n Negative:' , L[-1]  )\n",
    "\n",
    "# Muestra de una Lista\n",
    "L2 = [\"Michael Jackson\", 10.1,1982,\"MJ\",1]\n",
    "# Dividiendo una lista\n",
    "L2[3:5]\n",
    "print(L2[3:5])\n",
    "# Agregando elementos a la lista con append \n",
    "L = [ \"Michael Jackson\", 10.2]\n",
    "L.append(['pop', 10])\n",
    "print(L)\n",
    "# Quitando elemntos de una lista con extend\n",
    "L = [ \"Michael Jackson\", 10.2]\n",
    "L.extend(['pop', 10])\n",
    "print(L)\n",
    "\n",
    "# Cambio de elmentos basondo en indice\n",
    "A = [\"disco\", 10, 1.2]\n",
    "print('Before change:', A)\n",
    "A[0] = 'hard rock'\n",
    "print('After change:', A)\n",
    "\n",
    "# Elimindndo de elmentos basondo en indice\n",
    "print('Before change:', A)\n",
    "del(A[0])\n",
    "print('After change:', A)\n",
    "\n",
    "# Dividiendo un string by default\n",
    "print('hard rock'.split())\n",
    "# Dividiendo un string por coma \",\"\n",
    "print('A,B,C,D'.split(','))\n",
    "\n",
    "# Copia por referencia una lista\n",
    "A = [\"hard rock\", 10, 1.2]\n",
    "B = A\n",
    "print('A:', A)\n",
    "print('B:', B)\n",
    "\n",
    "# Examinar copia por refencia\n",
    "print('B[0]:', B[0])\n",
    "A[0] = \"banana\"\n",
    "print('B[0]:', B[0])\n",
    "\n",
    "# Clonando una lista\n",
    "B = A[:]\n",
    "print(B)\n",
    "\n",
    "print('B[0]:', B[0])\n",
    "A[0] = \"hard rock\"\n",
    "print('B[0]:', B[0])\n"
   ]
  },
  {
   "cell_type": "code",
   "execution_count": 26,
   "metadata": {},
   "outputs": [
    {
     "name": "stdout",
     "output_type": "stream",
     "text": [
      "[1, 'hello', [1, 2, 3], True]\n",
      "hello\n",
      "['hello', [1, 2, 3], True]\n",
      "[1, 'a', 2, 1, 'd']\n"
     ]
    }
   ],
   "source": [
    "# QUIZ\n",
    "# Creacion de lista, con elementos 1, hello, [1,2,3] y true\n",
    "list_ = [1 , 'hello' , [1 , 2 , 3], True]\n",
    "print(list_)\n",
    "# Valor en la posicion 1\n",
    "print(list_[1])\n",
    "# Elementos ordenados del 1 al 4\n",
    "print(list_[1:4])\n",
    "# Concatenate the following lists A = [1, 'a'] and B = [2, 1, 'd']\n",
    "A = [1 , 'a']\n",
    "B = [2, 1, 'd']\n",
    "print(A + B)"
   ]
  }
 ],
 "metadata": {
  "kernelspec": {
   "display_name": "Python 3.10.5 64-bit",
   "language": "python",
   "name": "python3"
  },
  "language_info": {
   "codemirror_mode": {
    "name": "ipython",
    "version": 3
   },
   "file_extension": ".py",
   "mimetype": "text/x-python",
   "name": "python",
   "nbconvert_exporter": "python",
   "pygments_lexer": "ipython3",
   "version": "3.10.5"
  },
  "orig_nbformat": 4,
  "vscode": {
   "interpreter": {
    "hash": "aee8b7b246df8f9039afb4144a1f6fd8d2ca17a180786b69acc140d282b71a49"
   }
  }
 },
 "nbformat": 4,
 "nbformat_minor": 2
}
