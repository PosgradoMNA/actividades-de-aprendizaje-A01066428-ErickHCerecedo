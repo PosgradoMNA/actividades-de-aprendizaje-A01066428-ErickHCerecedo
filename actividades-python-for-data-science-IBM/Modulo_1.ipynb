{
 "cells": [
  {
   "cell_type": "markdown",
   "metadata": {},
   "source": [
    "# Actividades del Modulo 1 | Python Basics\n",
    "Erick de Jesus Hernandez Cerecedo\n",
    "A01066428"
   ]
  },
  {
   "cell_type": "markdown",
   "metadata": {},
   "source": [
    "### Actividad | Your First Program 1\n",
    "Impresion de linea en python"
   ]
  },
  {
   "cell_type": "code",
   "execution_count": 1,
   "metadata": {},
   "outputs": [
    {
     "name": "stdout",
     "output_type": "stream",
     "text": [
      "Hello Python 101\n"
     ]
    }
   ],
   "source": [
    "# Imprimiedo \"Hello Python 101\"\n",
    "print('Hello Python 101')"
   ]
  },
  {
   "cell_type": "markdown",
   "metadata": {},
   "source": [
    "### Actividad | Types\n",
    "Trabajando con tipos de datos"
   ]
  },
  {
   "cell_type": "code",
   "execution_count": 6,
   "metadata": {},
   "outputs": [
    {
     "name": "stdout",
     "output_type": "stream",
     "text": [
      "<class 'int'>\n",
      "<class 'float'>\n",
      "<class 'str'>\n",
      "2.0\n",
      "1\n",
      "1\n",
      "<class 'bool'>\n"
     ]
    }
   ],
   "source": [
    "# Tipos de dato\n",
    "print(type(11))\n",
    "print(type(12.23))\n",
    "print(type('hello'))\n",
    "\n",
    "# Cambiado los tipos de dato (parsing)\n",
    "print(float(2))\n",
    "print(int(1.1))\n",
    "print(int('1'))\n",
    "\n",
    "# booleans\n",
    "print(type(True))"
   ]
  },
  {
   "cell_type": "markdown",
   "metadata": {},
   "source": [
    "### Actividad | Expressions and Variables\n",
    "Trabajando con Expresiones y variables"
   ]
  },
  {
   "cell_type": "code",
   "execution_count": 16,
   "metadata": {},
   "outputs": [
    {
     "name": "stdout",
     "output_type": "stream",
     "text": [
      "Suma 160\n",
      "Resta -10\n",
      "Multiplicacion 25\n",
      "Division 5.0\n",
      "my_variable = 1\n",
      "total_min = 142\n",
      "total_hr = 2.3666666666666667\n"
     ]
    }
   ],
   "source": [
    "# Expresiones matematicas\n",
    "print(\"Suma\", 43 + 60 + 16 + 41)\n",
    "print(\"Resta\", 50 - 60)\n",
    "print(\"Multiplicacion\", 5 * 5)\n",
    "print(\"Division\", 25 / 5)\n",
    "\n",
    "# variables\n",
    "my_variable = 1\n",
    "print(\"my_variable =\", my_variable)\n",
    "total_min = 43 + 42 + 57\n",
    "print(\"total_min =\", total_min)\n",
    "total_hr = total_min / 60\n",
    "print(\"total_hr =\", total_hr)"
   ]
  },
  {
   "cell_type": "markdown",
   "metadata": {},
   "source": [
    "### Actividad | Lab - Write Your First Python Code!"
   ]
  },
  {
   "cell_type": "code",
   "execution_count": 22,
   "metadata": {},
   "outputs": [
    {
     "name": "stdout",
     "output_type": "stream",
     "text": [
      "Hello, World!\n",
      "3.10.5 (v3.10.5:f377153967, Jun  6 2022, 12:36:10) [Clang 13.0.0 (clang-1300.0.29.30)]\n",
      "2.6666666666666665\n",
      "152\n",
      "160\n",
      "True\n",
      "7\n",
      "10\n",
      "17\n"
     ]
    }
   ],
   "source": [
    "# Impresion en pantalla \"Hello, World!\"\n",
    "print('Hello, World!')\n",
    "\n",
    "# Verificacion de version\n",
    "import sys\n",
    "print(sys.version)\n",
    "\n",
    "# Tipos de datos\n",
    "type(11)      # integer\n",
    "type(2.4)     # float\n",
    "type('Hello') # string\n",
    "type(True)    # boolean\n",
    "\n",
    "# Conversion de datos\n",
    "type(float(2))\n",
    "int(1.1)  # this causes a loss of information\n",
    "\n",
    "# Expresiones matematicas\n",
    "total_hrs = (160/60)\n",
    "print (total_hrs)\n",
    "\n",
    "# Operacione matematicas y variables\n",
    "a = 2 + 30 * 5\n",
    "print(a)\n",
    "b = (2 + 30) * 5\n",
    "print(b)\n",
    "print(a != b)\n",
    "\n",
    "# Casos Variados\n",
    "x = 3 + 2 * 2\n",
    "print (x)\n",
    "\n",
    "y = (3 + 2) * 2\n",
    "print (y)\n",
    "\n",
    "z = x + y\n",
    "print (z)"
   ]
  },
  {
   "cell_type": "markdown",
   "metadata": {},
   "source": [
    "### Actividad | String Operations\n",
    "Operaciones con Strings\n"
   ]
  },
  {
   "cell_type": "code",
   "execution_count": 28,
   "metadata": {},
   "outputs": [
    {
     "name": "stdout",
     "output_type": "stream",
     "text": [
      "Michael Jackson\n",
      "Mca\n",
      "o\n",
      "Michael JacksonMichael JacksonMichael Jackson\n",
      "Michael Jackson is the best\n",
      "Michael Jackson \n",
      " is the best\n",
      "Michael Jackson \t is the best\n",
      "Michael Jackson \\ is the best\n",
      "Michael Jackson \\ is the best\n",
      "hello world HELLO WORLD bye world 6\n"
     ]
    }
   ],
   "source": [
    "name = 'Michael Jackson'\n",
    "print(name)\n",
    "print(name[0:5:2])\n",
    "print(name[-2])\n",
    "len(name)\n",
    "print(3 * name)\n",
    "name = name + ' is the best'\n",
    "print(name)\n",
    "\n",
    "# escape sequence methods\n",
    "print('Michael Jackson \\n is the best')\n",
    "print('Michael Jackson \\t is the best')\n",
    "print('Michael Jackson \\\\ is the best')\n",
    "print(r'Michael Jackson \\ is the best')\n",
    "\n",
    "# string methods\n",
    "a = 'hello world'\n",
    "b = a.upper()\n",
    "c = a.replace('hello', 'bye')\n",
    "d = a.find('world')\n",
    "print(a, b, c, d)"
   ]
  },
  {
   "cell_type": "markdown",
   "metadata": {},
   "source": [
    "### Actividad | Lab - String Operations"
   ]
  },
  {
   "cell_type": "code",
   "execution_count": 34,
   "metadata": {},
   "outputs": [
    {
     "name": "stdout",
     "output_type": "stream",
     "text": [
      "1 2 12\n",
      "ABCDEFG\n",
      "ABC\n",
      "abcdefg\n",
      "aceg\n",
      "25\\05\\1999\n",
      "You are wrong\n",
      "YOU ARE WRONG\n",
      "hey, how are you John?\n",
      "9\n",
      "hey, how are you Bob?\n",
      "Li\n"
     ]
    }
   ],
   "source": [
    "a = '1'\n",
    "b = '2'\n",
    "c = a + b\n",
    "print (a, b, c)\n",
    "\n",
    "d = 'ABCDEFG'\n",
    "print(d)\n",
    "print(d[0:3])\n",
    "\n",
    "e = 'abcdefg'\n",
    "print(e)\n",
    "print(e[::2])\n",
    "\n",
    "print('25\\\\05\\\\1999')\n",
    "\n",
    "f = 'You are wrong'\n",
    "print(f)\n",
    "print(f.upper())\n",
    "\n",
    "g = 'hey, how are you John?'\n",
    "print(g)\n",
    "print(g.find('are'))\n",
    "print(g.replace('John','Bob'))\n",
    "\n",
    "name = 'Lizz'\n",
    "print(name[0:2])"
   ]
  }
 ],
 "metadata": {
  "kernelspec": {
   "display_name": "Python 3.10.5 64-bit",
   "language": "python",
   "name": "python3"
  },
  "language_info": {
   "codemirror_mode": {
    "name": "ipython",
    "version": 3
   },
   "file_extension": ".py",
   "mimetype": "text/x-python",
   "name": "python",
   "nbconvert_exporter": "python",
   "pygments_lexer": "ipython3",
   "version": "3.10.5"
  },
  "orig_nbformat": 4,
  "vscode": {
   "interpreter": {
    "hash": "aee8b7b246df8f9039afb4144a1f6fd8d2ca17a180786b69acc140d282b71a49"
   }
  }
 },
 "nbformat": 4,
 "nbformat_minor": 2
}
