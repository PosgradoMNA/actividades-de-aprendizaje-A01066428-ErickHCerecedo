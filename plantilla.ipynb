{
  "cells": [
    {
      "cell_type": "markdown",
      "metadata": {
        "colab_type": "text",
        "id": "view-in-github"
      },
      "source": [
        "<a href=\"https://colab.research.google.com/github/tec03/ParaAssignment01-/blob/main/assignment01.ipynb\" target=\"_parent\"><img src=\"https://colab.research.google.com/assets/colab-badge.svg\" alt=\"Open In Colab\"/></a>"
      ]
    },
    {
      "cell_type": "code",
      "execution_count": null,
      "metadata": {
        "colab": {
          "base_uri": "https://localhost:8080/"
        },
        "id": "LzUSMM79NR9P",
        "outputId": "0e6cb421-1096-426a-b31a-f61d059def81"
      },
      "outputs": [
        {
          "name": "stdout",
          "output_type": "stream",
          "text": [
            "assignment01 for GitJobish03 and edited in git, and 18\n"
          ]
        }
      ],
      "source": [
        "print('assignment01 for GitJobish03 and edited in git, and 18')"
      ]
    },
    {
      "cell_type": "markdown",
      "metadata": {},
      "source": [
        "# Actividades_Aprendizaje-A01066428-ErickHCerecedo  \n",
        "\n",
        "Alumno: **Erick de Jesus Hernandez Cerecedo**  \n",
        "Matricula: **A01066428**\n",
        "\n",
        "----\n",
        "\n",
        "## Contenido del repostorio\n",
        "\n",
        "##### 1. Actividades Python for Data Science (IBM) [Ver](actividades-python-for-data-science-IBM)\n",
        "- Notebook del [Modulo 1](actividades-python-for-data-science-IBM/Modulo_1.ipynb)\n",
        "- Notebook del [Modulo 2](actividades-python-for-data-science-IBM/Modulo_2.ipynb)\n",
        "- Notebook del [Modulo 3](actividades-python-for-data-science-IBM/Modulo_3.ipynb)\n",
        "- Notebook del [Modulo 4](actividades-python-for-data-science-IBM/Modulo_4.ipynb)\n",
        "- Notebook del [Modulo 5](actividades-python-for-data-science-IBM/Modulo_5.ipynb)\n",
        "- PDF del [Certificado del Curso](actividades-python-for-data-science-IBM/Certificado%20IBM%20PY0101EN%20%7C%20Cognitive%20Class.pdf)\n",
        "\n",
        "##### 2. Actividades \"Fundamentos de bases de datos\", \"Selección y limpieza de los Datos en Python\" y \"Preparación de los datos\"\n",
        "- Notebook [Selección y limpieza de los Datos enPython](Selección-y-limpieza-de-los-Datos-en-Python/avance-3.ipynb)\n",
        "- PDF [Selección y limpieza de los Datos enPython](Selección-y-limpieza-de-los-Datos-en-Python/avance-3.pdf)\n",
        "\n",
        "\n",
        "\n",
        "\n",
        "[![Open in Visual Studio Code](https://classroom.github.com/assets/open-in-vscode-c66648af7eb3fe8bc4f294546bfd86ef473780cde1dea487d3c4ff354943c9ae.svg)](https://classroom.github.com/online_ide?assignment_repo_id=8567148&assignment_repo_type=AssignmentRepo)\n"
      ]
    }
  ],
  "metadata": {
    "colab": {
      "include_colab_link": true,
      "name": "assignment01.ipynb",
      "provenance": []
    },
    "kernelspec": {
      "display_name": "Python 3.10.5 64-bit",
      "language": "python",
      "name": "python3"
    },
    "language_info": {
      "codemirror_mode": {
        "name": "ipython",
        "version": 3
      },
      "file_extension": ".py",
      "mimetype": "text/x-python",
      "name": "python",
      "nbconvert_exporter": "python",
      "pygments_lexer": "ipython3",
      "version": "3.10.5"
    },
    "vscode": {
      "interpreter": {
        "hash": "aee8b7b246df8f9039afb4144a1f6fd8d2ca17a180786b69acc140d282b71a49"
      }
    }
  },
  "nbformat": 4,
  "nbformat_minor": 0
}
