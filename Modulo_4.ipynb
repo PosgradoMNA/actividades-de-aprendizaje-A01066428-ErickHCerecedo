{
 "cells": [
  {
   "cell_type": "markdown",
   "metadata": {},
   "source": [
    "# Actividades del Modulo 4 | Python Programming Fundamentals\n",
    "Erick de Jesus Hernandez Cerecedo\n",
    "A01066428"
   ]
  },
  {
   "cell_type": "markdown",
   "metadata": {},
   "source": [
    "### Actividad | Reading Files with Open\n",
    "Leyendo archivos con Open"
   ]
  },
  {
   "cell_type": "code",
   "execution_count": 16,
   "metadata": {},
   "outputs": [
    {
     "name": "stdout",
     "output_type": "stream",
     "text": [
      "This is line 1\n",
      "\n",
      "This is line 2\n",
      "\n",
      "['This is line 3\\n']\n"
     ]
    }
   ],
   "source": [
    "# Lees un archivo\n",
    "with open('data/sample_read.txt', 'r') as File1:\n",
    "    r = File1.readline()\n",
    "    print(r)\n",
    "    r = File1.readline()\n",
    "    print(r)\n",
    "\n",
    "    # Read line comienza a contar desde la ultima linea llamada\n",
    "    r = File1.readlines(10)\n",
    "    print(r)\n"
   ]
  },
  {
   "cell_type": "markdown",
   "metadata": {},
   "source": [
    "### Actividad | Lab - Reading Files with Open "
   ]
  },
  {
   "cell_type": "code",
   "execution_count": 27,
   "metadata": {},
   "outputs": [
    {
     "name": "stdout",
     "output_type": "stream",
     "text": [
      "data/sample_read.txt\n",
      "r\n",
      "This is line 1\n",
      "This is line 2\n",
      "This is line 3\n",
      "This is line 4\n",
      "This is line 5\n",
      "This is line 6\n",
      "This is line 7\n",
      "This is line 8\n",
      "This is line 9\n",
      "This is line 10\n",
      "This is line 11\n",
      "This is line 12\n",
      "This is line 13\n",
      "This is line 14\n",
      "This is line 15\n",
      "<class 'str'>\n"
     ]
    }
   ],
   "source": [
    "# Read the Example1.txt\n",
    "example1 = 'data/sample_read.txt'\n",
    "file1 = open(example1, \"r\")\n",
    "\n",
    "# Imprimir el path del archivo\n",
    "print(file1.name)\n",
    "\n",
    "# Imprimir el modo del archivo, puede ser 'r' (lectura) or 'w' (Escritura)\n",
    "print(file1.mode)\n",
    "\n",
    "# Leer el archivo\n",
    "FileContent = file1.read()\n",
    "\n",
    "# Imprimir el archivo con '\\n' salto de linea\n",
    "print(FileContent)\n",
    "\n",
    "# Tipo del conteido del archivo\n",
    "print(type(FileContent))\n",
    "\n",
    "# Cerrar el archivo al terminar\n",
    "file1.close()"
   ]
  },
  {
   "cell_type": "code",
   "execution_count": 39,
   "metadata": {},
   "outputs": [
    {
     "name": "stdout",
     "output_type": "stream",
     "text": [
      "This is line 1\n",
      "This is line 2\n",
      "This is line 3\n",
      "This is line 4\n",
      "This is line 5\n",
      "This is line 6\n",
      "This is line 7\n",
      "This is line 8\n",
      "This is line 9\n",
      "This is line 10\n",
      "This is line 11\n",
      "This is line 12\n",
      "This is line 13\n",
      "This is line 14\n",
      "This is line 15\n",
      "True\n",
      "This\n",
      " is \n",
      "line 1\n",
      "\n",
      "This is line 2\n",
      "\n"
     ]
    }
   ],
   "source": [
    "# Leer archivo usando open\n",
    "with open(example1, \"r\") as file1:\n",
    "    FileContent = file1.read()\n",
    "    print(FileContent)\n",
    "\n",
    "# Verificar que el archivo esta cerrado\n",
    "print(file1.closed)\n",
    "\n",
    "# Read certain amount of characters\n",
    "with open(example1, \"r\") as file1:\n",
    "    print(file1.read(4))\n",
    "    print(file1.read(4))\n",
    "    print(file1.read(7))\n",
    "    print(file1.read(15))"
   ]
  },
  {
   "cell_type": "markdown",
   "metadata": {},
   "source": [
    "### Actividad | Writing Files with Open \n",
    "Escribiendo archivos con Open"
   ]
  },
  {
   "cell_type": "code",
   "execution_count": 48,
   "metadata": {},
   "outputs": [
    {
     "name": "stdout",
     "output_type": "stream",
     "text": [
      "This is line A\n",
      "This is line B\n",
      "\n",
      "This is line A\n",
      "\n",
      "This is line B\n",
      "\n",
      "This is line C\n",
      "\n",
      "Overwrite\n",
      "\n",
      "\n"
     ]
    }
   ],
   "source": [
    "# Escribir una linea\n",
    "exmp2 = 'data/example.txt'\n",
    "with open(exmp2, 'w') as writefile:\n",
    "    writefile.write(\"This is line A\\n\")\n",
    "    writefile.write(\"This is line B\\n\")\n",
    "\n",
    "# Leer el archivo\n",
    "with open(exmp2, 'r') as testwritefile:\n",
    "    print(testwritefile.read())\n",
    "\n",
    "\n",
    "\n",
    "# Muestra de una lista\n",
    "Lines = [\"This is line A\\n\", \"This is line B\\n\", \"This is line C\\n\"]\n",
    "\n",
    "# Escribir los strings en la lista en el archivo\n",
    "with open('data/example.txt', 'w') as writefile:\n",
    "    for line in Lines:\n",
    "        print(line)\n",
    "        writefile.write(line)\n",
    "\n",
    "with open('data/example.txt', 'w') as writefile:\n",
    "    writefile.write(\"Overwrite\\n\")\n",
    "with open('data/example.txt', 'r') as testwritefile:\n",
    "    print(testwritefile.read())\n",
    "\n",
    "\n",
    "# Appending \n",
    "with open('data/example.txt', 'a') as testwritefile:\n",
    "    testwritefile.write(\"This is line C\\n\")\n",
    "    testwritefile.write(\"This is line D\\n\")\n",
    "    testwritefile.write(\"This is line E\\n\")\n",
    "\n",
    "# Additional modes\n",
    "# r+ : Reading and writing. Cannot truncate the file.\n",
    "# w+ : Writing and reading. Truncates the file.\n",
    "# a+ : Appending and Reading. Creates a new file, if none exists.\n",
    "\n",
    "# Escribir archivos\n",
    "with open('data/sample_write.txt', 'w') as myFile:\n",
    "    for i in range(1, 21):\n",
    "        myFile.write('This is line %d\\n' % (i))"
   ]
  },
  {
   "cell_type": "markdown",
   "metadata": {},
   "source": [
    "### Actividad | Lab - Writing Files with Open"
   ]
  },
  {
   "cell_type": "code",
   "execution_count": 52,
   "metadata": {},
   "outputs": [],
   "source": [
    "# Exercises\n",
    "from random import randint as rnd\n",
    "\n",
    "memReg = 'data/members.txt'\n",
    "exReg = 'data/inactive.txt'\n",
    "fee =('yes','no')\n",
    "\n",
    "def genFiles(current,old):\n",
    "    with open(current,'w+') as writefile: \n",
    "        writefile.write('Membership No  Date Joined  Active  \\n')\n",
    "        data = \"{:^13}  {:<11}  {:<6}\\n\"\n",
    "\n",
    "        for rowno in range(20):\n",
    "            date = str(rnd(2015,2020))+ '-' + str(rnd(1,12))+'-'+str(rnd(1,25))\n",
    "            writefile.write(data.format(rnd(10000,99999),date,fee[rnd(0,1)]))\n",
    "\n",
    "\n",
    "    with open(old,'w+') as writefile: \n",
    "        writefile.write('Membership No  Date Joined  Active  \\n')\n",
    "        data = \"{:^13}  {:<11}  {:<6}\\n\"\n",
    "        for rowno in range(3):\n",
    "            date = str(rnd(2015,2020))+ '-' + str(rnd(1,12))+'-'+str(rnd(1,25))\n",
    "            writefile.write(data.format(rnd(10000,99999),date,fee[1]))\n",
    "\n",
    "\n",
    "genFiles(memReg,exReg)"
   ]
  },
  {
   "cell_type": "code",
   "execution_count": 51,
   "metadata": {},
   "outputs": [
    {
     "name": "stdout",
     "output_type": "stream",
     "text": [
      "Active Members: \n",
      "\n",
      "\n",
      "Membership No  Date Joined  Active  \n",
      "    10184      2020-1-19    yes   \n",
      "    47103      2019-2-19    yes   \n",
      "    11786      2015-2-18    yes   \n",
      "    58281      2015-9-23    yes   \n",
      "    74675      2017-1-13    yes   \n",
      "    59942      2018-10-1    yes   \n",
      "    56120      2018-12-16   yes   \n",
      "    31553      2019-9-3     yes   \n",
      "    78646      2019-7-21    yes   \n",
      "    89112      2019-4-21    yes   \n",
      "    26649      2015-4-10    yes   \n",
      "    11177      2016-8-13    yes   \n",
      "    26984      2015-12-17   yes   \n",
      "    33647      2015-11-23   yes   \n",
      "    69414      2020-6-7     yes   \n",
      "    66162      2020-11-13   yes   \n",
      "\n",
      "Inactive Members: \n",
      "\n",
      "\n",
      "Membership No  Date Joined  Active  \n",
      "    49963      2018-12-2    no    \n",
      "    72897      2019-9-10    no    \n",
      "    75841      2016-1-10    no    \n",
      "    40252      2016-11-5    no    \n",
      "    37044      2019-8-5     no    \n",
      "    99653      2016-9-5     no    \n",
      "    66850      2020-8-14    no    \n",
      "\n"
     ]
    }
   ],
   "source": [
    "\n",
    "'''\n",
    "The two arguments for this function are the files:\n",
    "    - currentMem: File containing list of current members\n",
    "    - exMem: File containing list of old members\n",
    "    \n",
    "    This function should remove all rows from currentMem containing 'no' \n",
    "    in the 'Active' column and appends them to exMem.\n",
    "    '''\n",
    "def cleanFiles(currentMem, exMem):\n",
    "    with open(currentMem,'r+') as writeFile: \n",
    "        with open(exMem,'a+') as appendFile:\n",
    "            # Extrar datos\n",
    "            writeFile.seek(0)\n",
    "            members = writeFile.readlines()\n",
    "            # Elimanr los headers\n",
    "            header = members[0]\n",
    "            members.pop(0)\n",
    "                \n",
    "            inactive = [member for member in members if ('no' in member)]\n",
    "    \n",
    "            # Comienzo del documento\n",
    "            writeFile.seek(0) \n",
    "            writeFile.write(header)\n",
    "            for member in members:\n",
    "                if (member in inactive):\n",
    "                    appendFile.write(member)\n",
    "                else:\n",
    "                    writeFile.write(member)      \n",
    "            writeFile.truncate()\n",
    "\n",
    "\n",
    "# The code below is to help you view the files.\n",
    "# Do not modify this code for this exercise.\n",
    "memReg = 'data/members.txt'\n",
    "exReg = 'data/inactive.txt'\n",
    "cleanFiles(memReg,exReg)\n",
    "\n",
    "\n",
    "headers = \"Membership No  Date Joined  Active  \\n\"\n",
    "with open(memReg,'r') as readFile:\n",
    "    print(\"Active Members: \\n\\n\")\n",
    "    print(readFile.read())\n",
    "    \n",
    "with open(exReg,'r') as readFile:\n",
    "    print(\"Inactive Members: \\n\\n\")\n",
    "    print(readFile.read())\n",
    "                "
   ]
  },
  {
   "cell_type": "markdown",
   "metadata": {},
   "source": [
    "### Actividad | Loading Data with Pandas \n",
    "Cargando datos con pandas"
   ]
  },
  {
   "cell_type": "code",
   "execution_count": 83,
   "metadata": {},
   "outputs": [
    {
     "name": "stdout",
     "output_type": "stream",
     "text": [
      "            Artist                            Album  Released    Length  \\\n",
      "0  Michael Jackson                         Thriller      1982  00:42:19   \n",
      "1            AC/DC                    Back in black      1980  00:42:11   \n",
      "2       Pink Floyd        The dark side of the moon      1973  00:42:49   \n",
      "3  Whitney Houston                    The bodyguard      1992  00:57:44   \n",
      "4        Meat Loaf                  Bat out of hell      1997  00:46:33   \n",
      "5           Eagles  Their Greatest Hits (1971-1975)      1976   0:43:08   \n",
      "6         Bee Gees             Saturday Night Fever      1977   1:15:54   \n",
      "7    Fleetwood Mac                          Rumours      1977   0:40:01   \n",
      "\n",
      "   Rating  \n",
      "0    10.0  \n",
      "1     9.5  \n",
      "2     9.0  \n",
      "3     8.5  \n",
      "4     8.0  \n",
      "5     7.5  \n",
      "6     7.0  \n",
      "7     6.5  \n",
      "0    00:42:19\n",
      "1    00:42:11\n",
      "2    00:42:49\n",
      "3    00:57:44\n",
      "4    00:46:33\n",
      "5     0:43:08\n",
      "6     1:15:54\n",
      "7     0:40:01\n",
      "Name: Length, dtype: object\n"
     ]
    },
    {
     "data": {
      "text/plain": [
       "'AC/DC'"
      ]
     },
     "execution_count": 83,
     "metadata": {},
     "output_type": "execute_result"
    }
   ],
   "source": [
    "import pandas as pd\n",
    "\n",
    "# Leer un archivo csv con pandas\n",
    "#csv_path = 'file1.csv'\n",
    "#df = pd.read_csv(csv_path)\n",
    "#df.head()\n",
    "\n",
    "# Crear un data frame\n",
    "songs = {\n",
    "  'Artist': ['Michael Jackson','AC/DC','Pink Floyd','Whitney Houston','Meat Loaf','Eagles','Bee Gees','Fleetwood Mac'],\n",
    "  'Album': ['Thriller','Back in black','The dark side of the moon','The bodyguard','Bat out of hell','Their Greatest Hits (1971-1975)','Saturday Night Fever','Rumours'],\n",
    "  'Released': [1982,1980,1973,1992,1997,1976,1977,1977],\n",
    "  'Length': ['00:42:19','00:42:11','00:42:49','00:57:44','00:46:33','0:43:08','1:15:54','0:40:01'],\n",
    "  'Rating': [10, 9.5, 9, 8.5, 8, 7.5, 7, 6.5]\n",
    "}\n",
    "\n",
    "songs_frame = pd.DataFrame(songs)\n",
    "songs_frame.head()\n",
    "print(songs_frame)\n",
    "\n",
    "# Crear un dataframe a partir de una columna\n",
    "x = songs_frame['Length']\n",
    "print(x)\n",
    "\n",
    "# Acceder a elementos unicos\n",
    "songs_frame.iloc[1,0]"
   ]
  },
  {
   "cell_type": "markdown",
   "metadata": {},
   "source": [
    "### Actividad | Working with and Saving Data with Pandas\n",
    "Trabajando y guardando datos con pandas"
   ]
  },
  {
   "cell_type": "code",
   "execution_count": 78,
   "metadata": {},
   "outputs": [
    {
     "data": {
      "text/html": [
       "<div>\n",
       "<style scoped>\n",
       "    .dataframe tbody tr th:only-of-type {\n",
       "        vertical-align: middle;\n",
       "    }\n",
       "\n",
       "    .dataframe tbody tr th {\n",
       "        vertical-align: top;\n",
       "    }\n",
       "\n",
       "    .dataframe thead th {\n",
       "        text-align: right;\n",
       "    }\n",
       "</style>\n",
       "<table border=\"1\" class=\"dataframe\">\n",
       "  <thead>\n",
       "    <tr style=\"text-align: right;\">\n",
       "      <th></th>\n",
       "      <th>Album</th>\n",
       "      <th>Released</th>\n",
       "      <th>Length</th>\n",
       "    </tr>\n",
       "  </thead>\n",
       "  <tbody>\n",
       "    <tr>\n",
       "      <th>3</th>\n",
       "      <td>The boyguard</td>\n",
       "      <td>1992</td>\n",
       "      <td>00:57:44</td>\n",
       "    </tr>\n",
       "    <tr>\n",
       "      <th>4</th>\n",
       "      <td>Bat out of hell</td>\n",
       "      <td>1997</td>\n",
       "      <td>00:46:33</td>\n",
       "    </tr>\n",
       "  </tbody>\n",
       "</table>\n",
       "</div>"
      ],
      "text/plain": [
       "             Album  Released    Length\n",
       "3     The boyguard      1992  00:57:44\n",
       "4  Bat out of hell      1997  00:46:33"
      ]
     },
     "execution_count": 78,
     "metadata": {},
     "output_type": "execute_result"
    }
   ],
   "source": [
    "# Extraer datos de otro datarame con alguna condicion\n",
    "df1 = songs_frame[songs_frame['Released']>1990]\n",
    "df1.head()\n",
    "\n",
    "# Crear nuevo archivo csv\n",
    "# df1.to_csv('newfile.csv')"
   ]
  },
  {
   "cell_type": "markdown",
   "metadata": {},
   "source": [
    "### Actividad | Lab - Loading Data and Viewing Data"
   ]
  },
  {
   "cell_type": "code",
   "execution_count": 87,
   "metadata": {},
   "outputs": [
    {
     "name": "stdout",
     "output_type": "stream",
     "text": [
      "a    10.0\n",
      "b     9.5\n",
      "c     9.0\n",
      "d     8.5\n",
      "e     8.0\n",
      "f     7.5\n",
      "g     7.0\n",
      "h     6.5\n",
      "Name: Rating, dtype: float64\n",
      "   Released           Artist\n",
      "a      1982  Michael Jackson\n",
      "b      1980            AC/DC\n",
      "c      1973       Pink Floyd\n",
      "d      1992  Whitney Houston\n",
      "e      1997        Meat Loaf\n",
      "f      1976           Eagles\n",
      "g      1977         Bee Gees\n",
      "h      1977    Fleetwood Mac\n",
      "            Artist                            Album  Released    Length  \\\n",
      "a  Michael Jackson                         Thriller      1982  00:42:19   \n",
      "b            AC/DC                    Back in black      1980  00:42:11   \n",
      "c       Pink Floyd        The dark side of the moon      1973  00:42:49   \n",
      "d  Whitney Houston                    The bodyguard      1992  00:57:44   \n",
      "e        Meat Loaf                  Bat out of hell      1997  00:46:33   \n",
      "f           Eagles  Their Greatest Hits (1971-1975)      1976   0:43:08   \n",
      "g         Bee Gees             Saturday Night Fever      1977   1:15:54   \n",
      "h    Fleetwood Mac                          Rumours      1977   0:40:01   \n",
      "\n",
      "   Rating  \n",
      "a    10.0  \n",
      "b     9.5  \n",
      "c     9.0  \n",
      "d     8.5  \n",
      "e     8.0  \n",
      "f     7.5  \n",
      "g     7.0  \n",
      "h     6.5  \n"
     ]
    },
    {
     "data": {
      "text/html": [
       "<div>\n",
       "<style scoped>\n",
       "    .dataframe tbody tr th:only-of-type {\n",
       "        vertical-align: middle;\n",
       "    }\n",
       "\n",
       "    .dataframe tbody tr th {\n",
       "        vertical-align: top;\n",
       "    }\n",
       "\n",
       "    .dataframe thead th {\n",
       "        text-align: right;\n",
       "    }\n",
       "</style>\n",
       "<table border=\"1\" class=\"dataframe\">\n",
       "  <thead>\n",
       "    <tr style=\"text-align: right;\">\n",
       "      <th></th>\n",
       "      <th>Artist</th>\n",
       "      <th>Album</th>\n",
       "      <th>Released</th>\n",
       "      <th>Length</th>\n",
       "      <th>Rating</th>\n",
       "    </tr>\n",
       "  </thead>\n",
       "  <tbody>\n",
       "    <tr>\n",
       "      <th>a</th>\n",
       "      <td>Michael Jackson</td>\n",
       "      <td>Thriller</td>\n",
       "      <td>1982</td>\n",
       "      <td>00:42:19</td>\n",
       "      <td>10.0</td>\n",
       "    </tr>\n",
       "    <tr>\n",
       "      <th>b</th>\n",
       "      <td>AC/DC</td>\n",
       "      <td>Back in black</td>\n",
       "      <td>1980</td>\n",
       "      <td>00:42:11</td>\n",
       "      <td>9.5</td>\n",
       "    </tr>\n",
       "    <tr>\n",
       "      <th>c</th>\n",
       "      <td>Pink Floyd</td>\n",
       "      <td>The dark side of the moon</td>\n",
       "      <td>1973</td>\n",
       "      <td>00:42:49</td>\n",
       "      <td>9.0</td>\n",
       "    </tr>\n",
       "    <tr>\n",
       "      <th>d</th>\n",
       "      <td>Whitney Houston</td>\n",
       "      <td>The bodyguard</td>\n",
       "      <td>1992</td>\n",
       "      <td>00:57:44</td>\n",
       "      <td>8.5</td>\n",
       "    </tr>\n",
       "    <tr>\n",
       "      <th>e</th>\n",
       "      <td>Meat Loaf</td>\n",
       "      <td>Bat out of hell</td>\n",
       "      <td>1997</td>\n",
       "      <td>00:46:33</td>\n",
       "      <td>8.0</td>\n",
       "    </tr>\n",
       "  </tbody>\n",
       "</table>\n",
       "</div>"
      ],
      "text/plain": [
       "            Artist                      Album  Released    Length  Rating\n",
       "a  Michael Jackson                   Thriller      1982  00:42:19    10.0\n",
       "b            AC/DC              Back in black      1980  00:42:11     9.5\n",
       "c       Pink Floyd  The dark side of the moon      1973  00:42:49     9.0\n",
       "d  Whitney Houston              The bodyguard      1992  00:57:44     8.5\n",
       "e        Meat Loaf            Bat out of hell      1997  00:46:33     8.0"
      ]
     },
     "execution_count": 87,
     "metadata": {},
     "output_type": "execute_result"
    }
   ],
   "source": [
    "# Guarda la columna Rating\n",
    "q = songs_frame['Rating']\n",
    "print(q)\n",
    "\n",
    "# Assignar nuevas columnas Releassed y Artist\n",
    "q = songs_frame[['Released','Artist']]\n",
    "print(q)\n",
    "\n",
    "# Access the 2nd row and the 3rd column of df:\n",
    "songs_frame.iloc[1,2]\n",
    "\n",
    "# Use the following list to convert the dataframe index df to characters and assign it to df_new; \n",
    "# find the element corresponding to the row index a and column 'Artist'. \n",
    "# Then select the rows a through d for the column 'Artist'\n",
    "new_index=['a','b','c','d','e','f','g','h']\n",
    "\n",
    "df_new = songs_frame\n",
    "df_new.index = new_index\n",
    "df_new.loc['a', 'Artist']\n",
    "df_new.loc['a':'d', 'Artist']\n",
    "print(df_new)\n",
    "\n",
    "\n",
    "songs_frame.head()"
   ]
  }
 ],
 "metadata": {
  "kernelspec": {
   "display_name": "Python 3.10.5 64-bit",
   "language": "python",
   "name": "python3"
  },
  "language_info": {
   "codemirror_mode": {
    "name": "ipython",
    "version": 3
   },
   "file_extension": ".py",
   "mimetype": "text/x-python",
   "name": "python",
   "nbconvert_exporter": "python",
   "pygments_lexer": "ipython3",
   "version": "3.10.5"
  },
  "orig_nbformat": 4,
  "vscode": {
   "interpreter": {
    "hash": "aee8b7b246df8f9039afb4144a1f6fd8d2ca17a180786b69acc140d282b71a49"
   }
  }
 },
 "nbformat": 4,
 "nbformat_minor": 2
}
