{
 "cells": [
  {
   "cell_type": "markdown",
   "metadata": {},
   "source": [
    "#  Actividad | Selección y limpieza de los Datos en Python\n",
    "\n",
    "### Integrantes\n",
    "\n",
    "Alumno: **Erick de Jesus Hernández Cerecedo**  \n",
    "Matricula: **A01066428**\n",
    "\n",
    "Alumno: **Francisco Javier Hernández Camarillo**  \n",
    "Matricula: **A00998083**\n",
    "\n",
    "### Información del Curso\n",
    "\n",
    "Nombre: **Ciencia y analítica de datos**  \n",
    "Profesor: **Jobish Vallikavungal Devassia**\n",
    "\n",
    "Fechas: **Martes 11 de octubre de 2022**\n",
    "\n",
    "---"
   ]
  },
  {
   "cell_type": "markdown",
   "metadata": {},
   "source": [
    "### Parte 1: Ejercicio guiado"
   ]
  },
  {
   "cell_type": "markdown",
   "metadata": {},
   "source": [
    "**Paso 1:** Determine el número mínimo de componentes principales que representan la mayor parte de la variación en sus datos"
   ]
  },
  {
   "cell_type": "code",
   "execution_count": 15,
   "metadata": {},
   "outputs": [
    {
     "data": {
      "text/html": [
       "<div>\n",
       "<style scoped>\n",
       "    .dataframe tbody tr th:only-of-type {\n",
       "        vertical-align: middle;\n",
       "    }\n",
       "\n",
       "    .dataframe tbody tr th {\n",
       "        vertical-align: top;\n",
       "    }\n",
       "\n",
       "    .dataframe thead th {\n",
       "        text-align: right;\n",
       "    }\n",
       "</style>\n",
       "<table border=\"1\" class=\"dataframe\">\n",
       "  <thead>\n",
       "    <tr style=\"text-align: right;\">\n",
       "      <th></th>\n",
       "      <th></th>\n",
       "      <th>X1</th>\n",
       "      <th>X3</th>\n",
       "      <th>X4</th>\n",
       "      <th>X5</th>\n",
       "      <th>X6</th>\n",
       "      <th>X7</th>\n",
       "      <th>X8</th>\n",
       "      <th>X12</th>\n",
       "      <th>X13</th>\n",
       "      <th>X14</th>\n",
       "      <th>X18</th>\n",
       "      <th>X19</th>\n",
       "      <th>X20</th>\n",
       "      <th>Y</th>\n",
       "    </tr>\n",
       "  </thead>\n",
       "  <tbody>\n",
       "    <tr>\n",
       "      <th>0</th>\n",
       "      <th>1</th>\n",
       "      <td>20000</td>\n",
       "      <td>2.0</td>\n",
       "      <td>1.0</td>\n",
       "      <td>24.0</td>\n",
       "      <td>2.0</td>\n",
       "      <td>2.0</td>\n",
       "      <td>-1.0</td>\n",
       "      <td>3913.0</td>\n",
       "      <td>3102.0</td>\n",
       "      <td>689.0</td>\n",
       "      <td>0.0</td>\n",
       "      <td>689.0</td>\n",
       "      <td>0.0</td>\n",
       "      <td>1.0</td>\n",
       "    </tr>\n",
       "    <tr>\n",
       "      <th>1</th>\n",
       "      <th>2</th>\n",
       "      <td>120000</td>\n",
       "      <td>2.0</td>\n",
       "      <td>2.0</td>\n",
       "      <td>26.0</td>\n",
       "      <td>-1.0</td>\n",
       "      <td>2.0</td>\n",
       "      <td>0.0</td>\n",
       "      <td>2682.0</td>\n",
       "      <td>1725.0</td>\n",
       "      <td>2682.0</td>\n",
       "      <td>0.0</td>\n",
       "      <td>1000.0</td>\n",
       "      <td>1000.0</td>\n",
       "      <td>1.0</td>\n",
       "    </tr>\n",
       "    <tr>\n",
       "      <th>2</th>\n",
       "      <th>3</th>\n",
       "      <td>90000</td>\n",
       "      <td>2.0</td>\n",
       "      <td>2.0</td>\n",
       "      <td>34.0</td>\n",
       "      <td>0.0</td>\n",
       "      <td>0.0</td>\n",
       "      <td>0.0</td>\n",
       "      <td>29239.0</td>\n",
       "      <td>14027.0</td>\n",
       "      <td>13559.0</td>\n",
       "      <td>1518.0</td>\n",
       "      <td>1500.0</td>\n",
       "      <td>1000.0</td>\n",
       "      <td>0.0</td>\n",
       "    </tr>\n",
       "    <tr>\n",
       "      <th>3</th>\n",
       "      <th>4</th>\n",
       "      <td>50000</td>\n",
       "      <td>2.0</td>\n",
       "      <td>1.0</td>\n",
       "      <td>37.0</td>\n",
       "      <td>0.0</td>\n",
       "      <td>0.0</td>\n",
       "      <td>0.0</td>\n",
       "      <td>46990.0</td>\n",
       "      <td>48233.0</td>\n",
       "      <td>49291.0</td>\n",
       "      <td>2000.0</td>\n",
       "      <td>2019.0</td>\n",
       "      <td>1200.0</td>\n",
       "      <td>0.0</td>\n",
       "    </tr>\n",
       "    <tr>\n",
       "      <th>4</th>\n",
       "      <th>5</th>\n",
       "      <td>50000</td>\n",
       "      <td>2.0</td>\n",
       "      <td>1.0</td>\n",
       "      <td>57.0</td>\n",
       "      <td>-1.0</td>\n",
       "      <td>0.0</td>\n",
       "      <td>-1.0</td>\n",
       "      <td>8617.0</td>\n",
       "      <td>5670.0</td>\n",
       "      <td>35835.0</td>\n",
       "      <td>2000.0</td>\n",
       "      <td>36681.0</td>\n",
       "      <td>10000.0</td>\n",
       "      <td>0.0</td>\n",
       "    </tr>\n",
       "  </tbody>\n",
       "</table>\n",
       "</div>"
      ],
      "text/plain": [
       "         X1   X3   X4    X5   X6   X7   X8      X12      X13      X14     X18  \\\n",
       "0 1   20000  2.0  1.0  24.0  2.0  2.0 -1.0   3913.0   3102.0    689.0     0.0   \n",
       "1 2  120000  2.0  2.0  26.0 -1.0  2.0  0.0   2682.0   1725.0   2682.0     0.0   \n",
       "2 3   90000  2.0  2.0  34.0  0.0  0.0  0.0  29239.0  14027.0  13559.0  1518.0   \n",
       "3 4   50000  2.0  1.0  37.0  0.0  0.0  0.0  46990.0  48233.0  49291.0  2000.0   \n",
       "4 5   50000  2.0  1.0  57.0 -1.0  0.0 -1.0   8617.0   5670.0  35835.0  2000.0   \n",
       "\n",
       "         X19      X20    Y  \n",
       "0 1    689.0      0.0  1.0  \n",
       "1 2   1000.0   1000.0  1.0  \n",
       "2 3   1500.0   1000.0  0.0  \n",
       "3 4   2019.0   1200.0  0.0  \n",
       "4 5  36681.0  10000.0  0.0  "
      ]
     },
     "execution_count": 15,
     "metadata": {},
     "output_type": "execute_result"
    }
   ],
   "source": [
    "# Principal components analysis (PCA)\n",
    "\n",
    "# Importar la librerias necesarias para la actividad\n",
    "import numpy as np\n",
    "import pandas as pd\n",
    "import seaborn as sns\n",
    "import matplotlib.pyplot as plt\n",
    "from sklearn import preprocessing\n",
    "from sklearn.decomposition import PCA\n",
    "\n",
    "# URL de la base de datos\n",
    "path = \"clean-credit-card-clients.csv\"\n",
    "\n",
    "# Lectura de los datos obtenios CSV\n",
    "data = pd.read_csv(path, names=['X1', 'X3', 'X4', 'X5', 'X6', 'X7', 'X8', 'X12', 'X13', 'X14', 'X18', 'X19', 'X20', 'Y'], header=0 )\n",
    "data.head(5)"
   ]
  },
  {
   "cell_type": "code",
   "execution_count": 20,
   "metadata": {},
   "outputs": [
    {
     "data": {
      "text/html": [
       "<div>\n",
       "<style scoped>\n",
       "    .dataframe tbody tr th:only-of-type {\n",
       "        vertical-align: middle;\n",
       "    }\n",
       "\n",
       "    .dataframe tbody tr th {\n",
       "        vertical-align: top;\n",
       "    }\n",
       "\n",
       "    .dataframe thead th {\n",
       "        text-align: right;\n",
       "    }\n",
       "</style>\n",
       "<table border=\"1\" class=\"dataframe\">\n",
       "  <thead>\n",
       "    <tr style=\"text-align: right;\">\n",
       "      <th></th>\n",
       "      <th>X1</th>\n",
       "      <th>X3</th>\n",
       "      <th>X4</th>\n",
       "      <th>X5</th>\n",
       "      <th>X6</th>\n",
       "      <th>X7</th>\n",
       "      <th>X8</th>\n",
       "      <th>X12</th>\n",
       "      <th>X13</th>\n",
       "      <th>X14</th>\n",
       "      <th>X18</th>\n",
       "      <th>X19</th>\n",
       "      <th>X20</th>\n",
       "      <th>Y</th>\n",
       "    </tr>\n",
       "  </thead>\n",
       "  <tbody>\n",
       "    <tr>\n",
       "      <th>X1</th>\n",
       "      <td>1.000000</td>\n",
       "      <td>-0.219120</td>\n",
       "      <td>-0.107801</td>\n",
       "      <td>0.144515</td>\n",
       "      <td>-0.271201</td>\n",
       "      <td>-0.296206</td>\n",
       "      <td>-0.286245</td>\n",
       "      <td>0.285616</td>\n",
       "      <td>0.278435</td>\n",
       "      <td>0.283373</td>\n",
       "      <td>0.195026</td>\n",
       "      <td>0.178320</td>\n",
       "      <td>0.210052</td>\n",
       "      <td>-0.153781</td>\n",
       "    </tr>\n",
       "    <tr>\n",
       "      <th>X3</th>\n",
       "      <td>-0.219120</td>\n",
       "      <td>1.000000</td>\n",
       "      <td>-0.143431</td>\n",
       "      <td>0.175079</td>\n",
       "      <td>0.105636</td>\n",
       "      <td>0.121632</td>\n",
       "      <td>0.114012</td>\n",
       "      <td>0.023451</td>\n",
       "      <td>0.018669</td>\n",
       "      <td>0.012913</td>\n",
       "      <td>-0.037385</td>\n",
       "      <td>-0.030007</td>\n",
       "      <td>-0.039953</td>\n",
       "      <td>0.028109</td>\n",
       "    </tr>\n",
       "    <tr>\n",
       "      <th>X4</th>\n",
       "      <td>-0.107801</td>\n",
       "      <td>-0.143431</td>\n",
       "      <td>1.000000</td>\n",
       "      <td>-0.413926</td>\n",
       "      <td>0.019747</td>\n",
       "      <td>0.024052</td>\n",
       "      <td>0.032430</td>\n",
       "      <td>-0.023430</td>\n",
       "      <td>-0.021536</td>\n",
       "      <td>-0.024876</td>\n",
       "      <td>-0.005705</td>\n",
       "      <td>-0.008016</td>\n",
       "      <td>-0.003399</td>\n",
       "      <td>-0.024544</td>\n",
       "    </tr>\n",
       "    <tr>\n",
       "      <th>X5</th>\n",
       "      <td>0.144515</td>\n",
       "      <td>0.175079</td>\n",
       "      <td>-0.413926</td>\n",
       "      <td>1.000000</td>\n",
       "      <td>-0.039432</td>\n",
       "      <td>-0.050154</td>\n",
       "      <td>-0.053249</td>\n",
       "      <td>0.056357</td>\n",
       "      <td>0.054469</td>\n",
       "      <td>0.053911</td>\n",
       "      <td>0.025995</td>\n",
       "      <td>0.021820</td>\n",
       "      <td>0.029262</td>\n",
       "      <td>0.013881</td>\n",
       "    </tr>\n",
       "    <tr>\n",
       "      <th>X6</th>\n",
       "      <td>-0.271201</td>\n",
       "      <td>0.105636</td>\n",
       "      <td>0.019747</td>\n",
       "      <td>-0.039432</td>\n",
       "      <td>1.000000</td>\n",
       "      <td>0.672290</td>\n",
       "      <td>0.574706</td>\n",
       "      <td>0.187115</td>\n",
       "      <td>0.189906</td>\n",
       "      <td>0.179796</td>\n",
       "      <td>-0.079230</td>\n",
       "      <td>-0.070083</td>\n",
       "      <td>-0.070460</td>\n",
       "      <td>0.324769</td>\n",
       "    </tr>\n",
       "    <tr>\n",
       "      <th>X7</th>\n",
       "      <td>-0.296206</td>\n",
       "      <td>0.121632</td>\n",
       "      <td>0.024052</td>\n",
       "      <td>-0.050154</td>\n",
       "      <td>0.672290</td>\n",
       "      <td>1.000000</td>\n",
       "      <td>0.766857</td>\n",
       "      <td>0.234878</td>\n",
       "      <td>0.235227</td>\n",
       "      <td>0.224105</td>\n",
       "      <td>-0.080771</td>\n",
       "      <td>-0.058981</td>\n",
       "      <td>-0.055864</td>\n",
       "      <td>0.263761</td>\n",
       "    </tr>\n",
       "    <tr>\n",
       "      <th>X8</th>\n",
       "      <td>-0.286245</td>\n",
       "      <td>0.114012</td>\n",
       "      <td>0.032430</td>\n",
       "      <td>-0.053249</td>\n",
       "      <td>0.574706</td>\n",
       "      <td>0.766857</td>\n",
       "      <td>1.000000</td>\n",
       "      <td>0.208843</td>\n",
       "      <td>0.237642</td>\n",
       "      <td>0.227827</td>\n",
       "      <td>0.001210</td>\n",
       "      <td>-0.066784</td>\n",
       "      <td>-0.053294</td>\n",
       "      <td>0.235765</td>\n",
       "    </tr>\n",
       "    <tr>\n",
       "      <th>X12</th>\n",
       "      <td>0.285616</td>\n",
       "      <td>0.023451</td>\n",
       "      <td>-0.023430</td>\n",
       "      <td>0.056357</td>\n",
       "      <td>0.187115</td>\n",
       "      <td>0.234878</td>\n",
       "      <td>0.208843</td>\n",
       "      <td>1.000000</td>\n",
       "      <td>0.951494</td>\n",
       "      <td>0.892272</td>\n",
       "      <td>0.140276</td>\n",
       "      <td>0.099301</td>\n",
       "      <td>0.156856</td>\n",
       "      <td>-0.019686</td>\n",
       "    </tr>\n",
       "    <tr>\n",
       "      <th>X13</th>\n",
       "      <td>0.278435</td>\n",
       "      <td>0.018669</td>\n",
       "      <td>-0.021536</td>\n",
       "      <td>0.054469</td>\n",
       "      <td>0.189906</td>\n",
       "      <td>0.235227</td>\n",
       "      <td>0.237642</td>\n",
       "      <td>0.951494</td>\n",
       "      <td>1.000000</td>\n",
       "      <td>0.928306</td>\n",
       "      <td>0.280323</td>\n",
       "      <td>0.100770</td>\n",
       "      <td>0.150631</td>\n",
       "      <td>-0.014240</td>\n",
       "    </tr>\n",
       "    <tr>\n",
       "      <th>X14</th>\n",
       "      <td>0.283373</td>\n",
       "      <td>0.012913</td>\n",
       "      <td>-0.024876</td>\n",
       "      <td>0.053911</td>\n",
       "      <td>0.179796</td>\n",
       "      <td>0.224105</td>\n",
       "      <td>0.227827</td>\n",
       "      <td>0.892272</td>\n",
       "      <td>0.928306</td>\n",
       "      <td>1.000000</td>\n",
       "      <td>0.244291</td>\n",
       "      <td>0.316904</td>\n",
       "      <td>0.129933</td>\n",
       "      <td>-0.014141</td>\n",
       "    </tr>\n",
       "    <tr>\n",
       "      <th>X18</th>\n",
       "      <td>0.195026</td>\n",
       "      <td>-0.037385</td>\n",
       "      <td>-0.005705</td>\n",
       "      <td>0.025995</td>\n",
       "      <td>-0.079230</td>\n",
       "      <td>-0.080771</td>\n",
       "      <td>0.001210</td>\n",
       "      <td>0.140276</td>\n",
       "      <td>0.280323</td>\n",
       "      <td>0.244291</td>\n",
       "      <td>1.000000</td>\n",
       "      <td>0.285522</td>\n",
       "      <td>0.252063</td>\n",
       "      <td>-0.072851</td>\n",
       "    </tr>\n",
       "    <tr>\n",
       "      <th>X19</th>\n",
       "      <td>0.178320</td>\n",
       "      <td>-0.030007</td>\n",
       "      <td>-0.008016</td>\n",
       "      <td>0.021820</td>\n",
       "      <td>-0.070083</td>\n",
       "      <td>-0.058981</td>\n",
       "      <td>-0.066784</td>\n",
       "      <td>0.099301</td>\n",
       "      <td>0.100770</td>\n",
       "      <td>0.316904</td>\n",
       "      <td>0.285522</td>\n",
       "      <td>1.000000</td>\n",
       "      <td>0.244709</td>\n",
       "      <td>-0.058577</td>\n",
       "    </tr>\n",
       "    <tr>\n",
       "      <th>X20</th>\n",
       "      <td>0.210052</td>\n",
       "      <td>-0.039953</td>\n",
       "      <td>-0.003399</td>\n",
       "      <td>0.029262</td>\n",
       "      <td>-0.070460</td>\n",
       "      <td>-0.055864</td>\n",
       "      <td>-0.053294</td>\n",
       "      <td>0.156856</td>\n",
       "      <td>0.150631</td>\n",
       "      <td>0.129933</td>\n",
       "      <td>0.252063</td>\n",
       "      <td>0.244709</td>\n",
       "      <td>1.000000</td>\n",
       "      <td>-0.056248</td>\n",
       "    </tr>\n",
       "    <tr>\n",
       "      <th>Y</th>\n",
       "      <td>-0.153781</td>\n",
       "      <td>0.028109</td>\n",
       "      <td>-0.024544</td>\n",
       "      <td>0.013881</td>\n",
       "      <td>0.324769</td>\n",
       "      <td>0.263761</td>\n",
       "      <td>0.235765</td>\n",
       "      <td>-0.019686</td>\n",
       "      <td>-0.014240</td>\n",
       "      <td>-0.014141</td>\n",
       "      <td>-0.072851</td>\n",
       "      <td>-0.058577</td>\n",
       "      <td>-0.056248</td>\n",
       "      <td>1.000000</td>\n",
       "    </tr>\n",
       "  </tbody>\n",
       "</table>\n",
       "</div>"
      ],
      "text/plain": [
       "           X1        X3        X4        X5        X6        X7        X8  \\\n",
       "X1   1.000000 -0.219120 -0.107801  0.144515 -0.271201 -0.296206 -0.286245   \n",
       "X3  -0.219120  1.000000 -0.143431  0.175079  0.105636  0.121632  0.114012   \n",
       "X4  -0.107801 -0.143431  1.000000 -0.413926  0.019747  0.024052  0.032430   \n",
       "X5   0.144515  0.175079 -0.413926  1.000000 -0.039432 -0.050154 -0.053249   \n",
       "X6  -0.271201  0.105636  0.019747 -0.039432  1.000000  0.672290  0.574706   \n",
       "X7  -0.296206  0.121632  0.024052 -0.050154  0.672290  1.000000  0.766857   \n",
       "X8  -0.286245  0.114012  0.032430 -0.053249  0.574706  0.766857  1.000000   \n",
       "X12  0.285616  0.023451 -0.023430  0.056357  0.187115  0.234878  0.208843   \n",
       "X13  0.278435  0.018669 -0.021536  0.054469  0.189906  0.235227  0.237642   \n",
       "X14  0.283373  0.012913 -0.024876  0.053911  0.179796  0.224105  0.227827   \n",
       "X18  0.195026 -0.037385 -0.005705  0.025995 -0.079230 -0.080771  0.001210   \n",
       "X19  0.178320 -0.030007 -0.008016  0.021820 -0.070083 -0.058981 -0.066784   \n",
       "X20  0.210052 -0.039953 -0.003399  0.029262 -0.070460 -0.055864 -0.053294   \n",
       "Y   -0.153781  0.028109 -0.024544  0.013881  0.324769  0.263761  0.235765   \n",
       "\n",
       "          X12       X13       X14       X18       X19       X20         Y  \n",
       "X1   0.285616  0.278435  0.283373  0.195026  0.178320  0.210052 -0.153781  \n",
       "X3   0.023451  0.018669  0.012913 -0.037385 -0.030007 -0.039953  0.028109  \n",
       "X4  -0.023430 -0.021536 -0.024876 -0.005705 -0.008016 -0.003399 -0.024544  \n",
       "X5   0.056357  0.054469  0.053911  0.025995  0.021820  0.029262  0.013881  \n",
       "X6   0.187115  0.189906  0.179796 -0.079230 -0.070083 -0.070460  0.324769  \n",
       "X7   0.234878  0.235227  0.224105 -0.080771 -0.058981 -0.055864  0.263761  \n",
       "X8   0.208843  0.237642  0.227827  0.001210 -0.066784 -0.053294  0.235765  \n",
       "X12  1.000000  0.951494  0.892272  0.140276  0.099301  0.156856 -0.019686  \n",
       "X13  0.951494  1.000000  0.928306  0.280323  0.100770  0.150631 -0.014240  \n",
       "X14  0.892272  0.928306  1.000000  0.244291  0.316904  0.129933 -0.014141  \n",
       "X18  0.140276  0.280323  0.244291  1.000000  0.285522  0.252063 -0.072851  \n",
       "X19  0.099301  0.100770  0.316904  0.285522  1.000000  0.244709 -0.058577  \n",
       "X20  0.156856  0.150631  0.129933  0.252063  0.244709  1.000000 -0.056248  \n",
       "Y   -0.019686 -0.014240 -0.014141 -0.072851 -0.058577 -0.056248  1.000000  "
      ]
     },
     "execution_count": 20,
     "metadata": {},
     "output_type": "execute_result"
    }
   ],
   "source": [
    "data.corr()"
   ]
  },
  {
   "cell_type": "code",
   "execution_count": 22,
   "metadata": {},
   "outputs": [
    {
     "data": {
      "text/html": [
       "<div>\n",
       "<style scoped>\n",
       "    .dataframe tbody tr th:only-of-type {\n",
       "        vertical-align: middle;\n",
       "    }\n",
       "\n",
       "    .dataframe tbody tr th {\n",
       "        vertical-align: top;\n",
       "    }\n",
       "\n",
       "    .dataframe thead th {\n",
       "        text-align: right;\n",
       "    }\n",
       "</style>\n",
       "<table border=\"1\" class=\"dataframe\">\n",
       "  <thead>\n",
       "    <tr style=\"text-align: right;\">\n",
       "      <th></th>\n",
       "      <th>X12</th>\n",
       "      <th>X13</th>\n",
       "    </tr>\n",
       "  </thead>\n",
       "  <tbody>\n",
       "    <tr>\n",
       "      <th>X12</th>\n",
       "      <td>1.000000</td>\n",
       "      <td>0.951494</td>\n",
       "    </tr>\n",
       "    <tr>\n",
       "      <th>X13</th>\n",
       "      <td>0.951494</td>\n",
       "      <td>1.000000</td>\n",
       "    </tr>\n",
       "  </tbody>\n",
       "</table>\n",
       "</div>"
      ],
      "text/plain": [
       "          X12       X13\n",
       "X12  1.000000  0.951494\n",
       "X13  0.951494  1.000000"
      ]
     },
     "execution_count": 22,
     "metadata": {},
     "output_type": "execute_result"
    }
   ],
   "source": [
    "ndata = data[['X12', 'X13']]\n",
    "ndata.corr()"
   ]
  },
  {
   "cell_type": "code",
   "execution_count": 30,
   "metadata": {},
   "outputs": [
    {
     "data": {
      "text/plain": [
       "51248.12"
      ]
     },
     "execution_count": 30,
     "metadata": {},
     "output_type": "execute_result"
    }
   ],
   "source": [
    "data.X12.mean().round(2)"
   ]
  },
  {
   "cell_type": "code",
   "execution_count": 31,
   "metadata": {},
   "outputs": [
    {
     "data": {
      "text/plain": [
       "49200.49"
      ]
     },
     "execution_count": 31,
     "metadata": {},
     "output_type": "execute_result"
    }
   ],
   "source": [
    "data.X13.mean().round(2)"
   ]
  },
  {
   "cell_type": "code",
   "execution_count": 34,
   "metadata": {},
   "outputs": [
    {
     "data": {
      "text/plain": [
       "array([[5.42799825e+09, 4.99199975e+09],\n",
       "       [4.99199975e+09, 5.07103967e+09]])"
      ]
     },
     "execution_count": 34,
     "metadata": {},
     "output_type": "execute_result"
    }
   ],
   "source": [
    "Varience = np.cov([data.X12, data.X13])\n",
    "Varience"
   ]
  },
  {
   "cell_type": "code",
   "execution_count": 36,
   "metadata": {},
   "outputs": [
    {
     "data": {
      "text/plain": [
       "10499037918.035707"
      ]
     },
     "execution_count": 36,
     "metadata": {},
     "output_type": "execute_result"
    }
   ],
   "source": [
    "ndata = data[['X12', 'X13']]\n",
    "ndata.var().sum()"
   ]
  },
  {
   "cell_type": "code",
   "execution_count": 39,
   "metadata": {},
   "outputs": [
    {
     "name": "stdout",
     "output_type": "stream",
     "text": [
      "Total Varience \t\t\t: 10499037918.04\n",
      "Varience prop. of X12 \t: 51.7 %\n",
      "Varience prop. of X13 \t: 48.3 %\n"
     ]
    }
   ],
   "source": [
    "t = ndata.var().sum()\n",
    "varC =Varience[0][0]\n",
    "varR = Varience[1][1]\n",
    "\n",
    "print('Total Varience \\t\\t\\t:', t.round(2) )\n",
    "print('Varience prop. of X12 \\t:', ((varC/t)*100).round(2),'%' )\n",
    "print('Varience prop. of X13 \\t:', ((varR/t)*100).round(2),'%' )"
   ]
  },
  {
   "cell_type": "code",
   "execution_count": 40,
   "metadata": {},
   "outputs": [
    {
     "data": {
      "text/html": [
       "<div>\n",
       "<style scoped>\n",
       "    .dataframe tbody tr th:only-of-type {\n",
       "        vertical-align: middle;\n",
       "    }\n",
       "\n",
       "    .dataframe tbody tr th {\n",
       "        vertical-align: top;\n",
       "    }\n",
       "\n",
       "    .dataframe thead th {\n",
       "        text-align: right;\n",
       "    }\n",
       "</style>\n",
       "<table border=\"1\" class=\"dataframe\">\n",
       "  <thead>\n",
       "    <tr style=\"text-align: right;\">\n",
       "      <th></th>\n",
       "      <th>X12</th>\n",
       "      <th>X13</th>\n",
       "    </tr>\n",
       "  </thead>\n",
       "  <tbody>\n",
       "    <tr>\n",
       "      <th>X12</th>\n",
       "      <td>1.00</td>\n",
       "      <td>0.95</td>\n",
       "    </tr>\n",
       "    <tr>\n",
       "      <th>X13</th>\n",
       "      <td>0.95</td>\n",
       "      <td>1.00</td>\n",
       "    </tr>\n",
       "  </tbody>\n",
       "</table>\n",
       "</div>"
      ],
      "text/plain": [
       "      X12   X13\n",
       "X12  1.00  0.95\n",
       "X13  0.95  1.00"
      ]
     },
     "execution_count": 40,
     "metadata": {},
     "output_type": "execute_result"
    }
   ],
   "source": [
    "ndata.corr().round(2)"
   ]
  },
  {
   "cell_type": "markdown",
   "metadata": {},
   "source": [
    "**Paso 2:** Interprete cada componente principal en términos de las variables originales"
   ]
  },
  {
   "cell_type": "code",
   "execution_count": 42,
   "metadata": {},
   "outputs": [
    {
     "data": {
      "text/plain": [
       "<AxesSubplot: xlabel='X12', ylabel='X13'>"
      ]
     },
     "execution_count": 42,
     "metadata": {},
     "output_type": "execute_result"
    },
    {
     "data": {
      "image/png": "[encoded data removed]",
      "text/plain": [
       "<Figure size 640x480 with 1 Axes>"
      ]
     },
     "metadata": {},
     "output_type": "display_data"
    }
   ],
   "source": [
    "import seaborn as sns\n",
    "\n",
    "p = sns.regplot(data = data,  \n",
    "                x = data.X12, \n",
    "                y = data.X13\n",
    "               ) \n",
    "p"
   ]
  },
  {
   "cell_type": "code",
   "execution_count": 43,
   "metadata": {},
   "outputs": [
    {
     "data": {
      "text/html": [
       "<div>\n",
       "<style scoped>\n",
       "    .dataframe tbody tr th:only-of-type {\n",
       "        vertical-align: middle;\n",
       "    }\n",
       "\n",
       "    .dataframe tbody tr th {\n",
       "        vertical-align: top;\n",
       "    }\n",
       "\n",
       "    .dataframe thead th {\n",
       "        text-align: right;\n",
       "    }\n",
       "</style>\n",
       "<table border=\"1\" class=\"dataframe\">\n",
       "  <thead>\n",
       "    <tr style=\"text-align: right;\">\n",
       "      <th></th>\n",
       "      <th>Standard deviation</th>\n",
       "      <th>Proportion of variance</th>\n",
       "      <th>Cumulative proportion</th>\n",
       "    </tr>\n",
       "  </thead>\n",
       "  <tbody>\n",
       "    <tr>\n",
       "      <th>0</th>\n",
       "      <td>101216.146329</td>\n",
       "      <td>0.975776</td>\n",
       "      <td>0.975776</td>\n",
       "    </tr>\n",
       "    <tr>\n",
       "      <th>1</th>\n",
       "      <td>15947.715835</td>\n",
       "      <td>0.024224</td>\n",
       "      <td>1.000000</td>\n",
       "    </tr>\n",
       "  </tbody>\n",
       "</table>\n",
       "</div>"
      ],
      "text/plain": [
       "   Standard deviation  Proportion of variance  Cumulative proportion\n",
       "0       101216.146329                0.975776               0.975776\n",
       "1        15947.715835                0.024224               1.000000"
      ]
     },
     "execution_count": 43,
     "metadata": {},
     "output_type": "execute_result"
    }
   ],
   "source": [
    "import numpy as np\n",
    "from sklearn.decomposition import PCA\n",
    "\n",
    "pcs = PCA(n_components=2)\n",
    "\n",
    "pcs.fit(data[['X12', 'X13']])\n",
    "\n",
    "pcsSummary = pd.DataFrame({'Standard deviation': np.sqrt(pcs.explained_variance_),\n",
    "                          'Proportion of variance': pcs.explained_variance_ratio_,\n",
    "                          'Cumulative proportion': np.cumsum(pcs.explained_variance_ratio_)#column \n",
    "                          }\n",
    "                          )\n",
    "pcsSummary"
   ]
  },
  {
   "cell_type": "code",
   "execution_count": 44,
   "metadata": {},
   "outputs": [
    {
     "data": {
      "text/html": [
       "<div>\n",
       "<style scoped>\n",
       "    .dataframe tbody tr th:only-of-type {\n",
       "        vertical-align: middle;\n",
       "    }\n",
       "\n",
       "    .dataframe tbody tr th {\n",
       "        vertical-align: top;\n",
       "    }\n",
       "\n",
       "    .dataframe thead th {\n",
       "        text-align: right;\n",
       "    }\n",
       "</style>\n",
       "<table border=\"1\" class=\"dataframe\">\n",
       "  <thead>\n",
       "    <tr style=\"text-align: right;\">\n",
       "      <th></th>\n",
       "      <th>0</th>\n",
       "      <th>1</th>\n",
       "    </tr>\n",
       "  </thead>\n",
       "  <tbody>\n",
       "    <tr>\n",
       "      <th>Standard deviation</th>\n",
       "      <td>101216.15</td>\n",
       "      <td>15947.72</td>\n",
       "    </tr>\n",
       "    <tr>\n",
       "      <th>Proportion of variance</th>\n",
       "      <td>0.98</td>\n",
       "      <td>0.02</td>\n",
       "    </tr>\n",
       "    <tr>\n",
       "      <th>Cumulative proportion</th>\n",
       "      <td>0.98</td>\n",
       "      <td>1.00</td>\n",
       "    </tr>\n",
       "  </tbody>\n",
       "</table>\n",
       "</div>"
      ],
      "text/plain": [
       "                                0         1\n",
       "Standard deviation      101216.15  15947.72\n",
       "Proportion of variance       0.98      0.02\n",
       "Cumulative proportion        0.98      1.00"
      ]
     },
     "execution_count": 44,
     "metadata": {},
     "output_type": "execute_result"
    }
   ],
   "source": [
    "pcsSummary = pcsSummary.transpose()\n",
    "pcsSummary.round(2)"
   ]
  },
  {
   "cell_type": "code",
   "execution_count": 45,
   "metadata": {},
   "outputs": [
    {
     "data": {
      "text/html": [
       "<div>\n",
       "<style scoped>\n",
       "    .dataframe tbody tr th:only-of-type {\n",
       "        vertical-align: middle;\n",
       "    }\n",
       "\n",
       "    .dataframe tbody tr th {\n",
       "        vertical-align: top;\n",
       "    }\n",
       "\n",
       "    .dataframe thead th {\n",
       "        text-align: right;\n",
       "    }\n",
       "</style>\n",
       "<table border=\"1\" class=\"dataframe\">\n",
       "  <thead>\n",
       "    <tr style=\"text-align: right;\">\n",
       "      <th></th>\n",
       "      <th>PC1</th>\n",
       "      <th>PC2</th>\n",
       "    </tr>\n",
       "  </thead>\n",
       "  <tbody>\n",
       "    <tr>\n",
       "      <th>Standard deviation</th>\n",
       "      <td>101216.1463</td>\n",
       "      <td>15947.7158</td>\n",
       "    </tr>\n",
       "    <tr>\n",
       "      <th>Proportion of variance</th>\n",
       "      <td>0.9758</td>\n",
       "      <td>0.0242</td>\n",
       "    </tr>\n",
       "    <tr>\n",
       "      <th>Cumulative proportion</th>\n",
       "      <td>0.9758</td>\n",
       "      <td>1.0000</td>\n",
       "    </tr>\n",
       "  </tbody>\n",
       "</table>\n",
       "</div>"
      ],
      "text/plain": [
       "                                PC1         PC2\n",
       "Standard deviation      101216.1463  15947.7158\n",
       "Proportion of variance       0.9758      0.0242\n",
       "Cumulative proportion        0.9758      1.0000"
      ]
     },
     "execution_count": 45,
     "metadata": {},
     "output_type": "execute_result"
    }
   ],
   "source": [
    "pcsSummary.columns = ['PC1', 'PC2']\n",
    "pcsSummary = pcsSummary.round(4)\n",
    "pcsSummary"
   ]
  },
  {
   "cell_type": "code",
   "execution_count": 46,
   "metadata": {},
   "outputs": [
    {
     "data": {
      "image/png": "[encoded data removed]",
      "text/plain": [
       "<Figure size 1000x700 with 1 Axes>"
      ]
     },
     "metadata": {},
     "output_type": "display_data"
    }
   ],
   "source": [
    "# Scree Plot\n",
    "import matplotlib as mpl\n",
    "import matplotlib.pyplot as plt\n",
    "\n",
    "PC_components = np.arange(pcs.n_components_) + 1\n",
    "\n",
    "_ = sns.set(style = 'whitegrid', \n",
    "            font_scale = 1.2\n",
    "            )\n",
    "\n",
    "fig, ax = plt.subplots(figsize=(10, 7))\n",
    "\n",
    "_ = sns.barplot(x = PC_components, \n",
    "                y = pcs.explained_variance_ratio_, \n",
    "                color = 'b'\n",
    "                )\n",
    "\n",
    "_ = sns.lineplot(x = PC_components-1, \n",
    "                 y = np.cumsum(pcs.explained_variance_ratio_), \n",
    "                 color = 'black', \n",
    "                 linestyle = '-', \n",
    "                 linewidth = 2, \n",
    "                 marker = 'o', \n",
    "                 markersize = 8\n",
    "                 )\n",
    "\n",
    "plt.title('Scree Plot')\n",
    "_.set(xlabel='N-th Principal Component', ylabel = 'Variance Explained')\n",
    "plt.ylim(0, 1)\n",
    "plt.show()"
   ]
  },
  {
   "cell_type": "code",
   "execution_count": 47,
   "metadata": {},
   "outputs": [
    {
     "data": {
      "text/plain": [
       "array([[ 0.7196,  0.6944],\n",
       "       [-0.6944,  0.7196]])"
      ]
     },
     "execution_count": 47,
     "metadata": {},
     "output_type": "execute_result"
    }
   ],
   "source": [
    "pcs.components_.round(4)"
   ]
  },
  {
   "cell_type": "code",
   "execution_count": 48,
   "metadata": {},
   "outputs": [
    {
     "data": {
      "text/html": [
       "<div>\n",
       "<style scoped>\n",
       "    .dataframe tbody tr th:only-of-type {\n",
       "        vertical-align: middle;\n",
       "    }\n",
       "\n",
       "    .dataframe tbody tr th {\n",
       "        vertical-align: top;\n",
       "    }\n",
       "\n",
       "    .dataframe thead th {\n",
       "        text-align: right;\n",
       "    }\n",
       "</style>\n",
       "<table border=\"1\" class=\"dataframe\">\n",
       "  <thead>\n",
       "    <tr style=\"text-align: right;\">\n",
       "      <th></th>\n",
       "      <th>PC1</th>\n",
       "      <th>PC2</th>\n",
       "    </tr>\n",
       "  </thead>\n",
       "  <tbody>\n",
       "    <tr>\n",
       "      <th>X12</th>\n",
       "      <td>0.719628</td>\n",
       "      <td>-0.694359</td>\n",
       "    </tr>\n",
       "    <tr>\n",
       "      <th>X13</th>\n",
       "      <td>0.694359</td>\n",
       "      <td>0.719628</td>\n",
       "    </tr>\n",
       "  </tbody>\n",
       "</table>\n",
       "</div>"
      ],
      "text/plain": [
       "          PC1       PC2\n",
       "X12  0.719628 -0.694359\n",
       "X13  0.694359  0.719628"
      ]
     },
     "execution_count": 48,
     "metadata": {},
     "output_type": "execute_result"
    }
   ],
   "source": [
    "pcsComponents_df = pd.DataFrame(pcs.components_.transpose(), \n",
    "                                columns=['PC1', 'PC2'],\n",
    "                                index=['X12', 'X13']\n",
    "                                )\n",
    "pcsComponents_df"
   ]
  },
  {
   "cell_type": "code",
   "execution_count": 49,
   "metadata": {},
   "outputs": [
    {
     "data": {
      "text/html": [
       "<div>\n",
       "<style scoped>\n",
       "    .dataframe tbody tr th:only-of-type {\n",
       "        vertical-align: middle;\n",
       "    }\n",
       "\n",
       "    .dataframe tbody tr th {\n",
       "        vertical-align: top;\n",
       "    }\n",
       "\n",
       "    .dataframe thead th {\n",
       "        text-align: right;\n",
       "    }\n",
       "</style>\n",
       "<table border=\"1\" class=\"dataframe\">\n",
       "  <thead>\n",
       "    <tr style=\"text-align: right;\">\n",
       "      <th></th>\n",
       "      <th>x</th>\n",
       "      <th>y</th>\n",
       "    </tr>\n",
       "  </thead>\n",
       "  <tbody>\n",
       "    <tr>\n",
       "      <th>0</th>\n",
       "      <td>-66072.618739</td>\n",
       "      <td>-306.205784</td>\n",
       "    </tr>\n",
       "    <tr>\n",
       "      <th>1</th>\n",
       "      <td>-67914.614171</td>\n",
       "      <td>-442.377833</td>\n",
       "    </tr>\n",
       "    <tr>\n",
       "      <th>2</th>\n",
       "      <td>-40261.432704</td>\n",
       "      <td>-10029.609328</td>\n",
       "    </tr>\n",
       "    <tr>\n",
       "      <th>3</th>\n",
       "      <td>-3736.052625</td>\n",
       "      <td>2260.429202</td>\n",
       "    </tr>\n",
       "    <tr>\n",
       "      <th>4</th>\n",
       "      <td>-60904.371707</td>\n",
       "      <td>-1724.466203</td>\n",
       "    </tr>\n",
       "  </tbody>\n",
       "</table>\n",
       "</div>"
      ],
      "text/plain": [
       "              x             y\n",
       "0 -66072.618739   -306.205784\n",
       "1 -67914.614171   -442.377833\n",
       "2 -40261.432704 -10029.609328\n",
       "3  -3736.052625   2260.429202\n",
       "4 -60904.371707  -1724.466203"
      ]
     },
     "execution_count": 49,
     "metadata": {},
     "output_type": "execute_result"
    }
   ],
   "source": [
    "scores = pd.DataFrame(pcs.transform(data[['X12', 'X13']]),\n",
    "                      columns=['x', 'y']\n",
    "                      )\n",
    "scores.head()"
   ]
  },
  {
   "cell_type": "markdown",
   "metadata": {},
   "source": [
    "**Paso 3:** Identifique valores atípicos"
   ]
  },
  {
   "cell_type": "markdown",
   "metadata": {},
   "source": [
    "### Parte 2: Responde las siguientes preguntas en una celda de texto en Jupyter Notebook"
   ]
  },
  {
   "cell_type": "markdown",
   "metadata": {},
   "source": [
    "¿Cuál es el número de componentes mínimo y por qué?\n",
    "\n"
   ]
  },
  {
   "cell_type": "markdown",
   "metadata": {},
   "source": [
    "¿Cuál es la variación de los datos que representan esos componentes?"
   ]
  },
  {
   "cell_type": "markdown",
   "metadata": {},
   "source": [
    "¿Cuál es la pérdida de información después de realizar PCA?"
   ]
  },
  {
   "cell_type": "markdown",
   "metadata": {},
   "source": [
    "De las variables originales, ¿Cuál tiene mayor y cuál tiene menor importancia en los componentes principales?"
   ]
  },
  {
   "cell_type": "markdown",
   "metadata": {},
   "source": [
    "¿Cuándo se recomienda realizar un PCA y qué beneficios ofrece para Machine Learning?"
   ]
  }
 ],
 "metadata": {
  "kernelspec": {
   "display_name": "Python 3.10.5 64-bit",
   "language": "python",
   "name": "python3"
  },
  "language_info": {
   "codemirror_mode": {
    "name": "ipython",
    "version": 3
   },
   "file_extension": ".py",
   "mimetype": "text/x-python",
   "name": "python",
   "nbconvert_exporter": "python",
   "pygments_lexer": "ipython3",
   "version": "3.10.5"
  },
  "orig_nbformat": 4,
  "vscode": {
   "interpreter": {
    "hash": "aee8b7b246df8f9039afb4144a1f6fd8d2ca17a180786b69acc140d282b71a49"
   }
  }
 },
 "nbformat": 4,
 "nbformat_minor": 2
}
